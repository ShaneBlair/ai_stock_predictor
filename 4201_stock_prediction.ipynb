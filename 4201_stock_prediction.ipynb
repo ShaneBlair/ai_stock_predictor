{
  "nbformat": 4,
  "nbformat_minor": 0,
  "metadata": {
    "colab": {
      "provenance": []
    },
    "kernelspec": {
      "name": "python3",
      "display_name": "Python 3"
    },
    "language_info": {
      "name": "python"
    }
  },
  "cells": [
    {
      "cell_type": "code",
      "execution_count": 2,
      "metadata": {
        "colab": {
          "base_uri": "https://localhost:8080/"
        },
        "id": "eleOwYuviK4F",
        "outputId": "d03b0527-6603-41e1-87cd-580c34705f5f"
      },
      "outputs": [
        {
          "output_type": "stream",
          "name": "stdout",
          "text": [
            "Looking in indexes: https://pypi.org/simple, https://us-python.pkg.dev/colab-wheels/public/simple/\n",
            "Requirement already satisfied: numpy in /usr/local/lib/python3.7/dist-packages (1.21.6)\n",
            "Looking in indexes: https://pypi.org/simple, https://us-python.pkg.dev/colab-wheels/public/simple/\n",
            "Requirement already satisfied: pandas in /usr/local/lib/python3.7/dist-packages (1.3.5)\n",
            "Requirement already satisfied: pytz>=2017.3 in /usr/local/lib/python3.7/dist-packages (from pandas) (2022.6)\n",
            "Requirement already satisfied: python-dateutil>=2.7.3 in /usr/local/lib/python3.7/dist-packages (from pandas) (2.8.2)\n",
            "Requirement already satisfied: numpy>=1.17.3 in /usr/local/lib/python3.7/dist-packages (from pandas) (1.21.6)\n",
            "Requirement already satisfied: six>=1.5 in /usr/local/lib/python3.7/dist-packages (from python-dateutil>=2.7.3->pandas) (1.15.0)\n",
            "Looking in indexes: https://pypi.org/simple, https://us-python.pkg.dev/colab-wheels/public/simple/\n",
            "Requirement already satisfied: pandas-datareader in /usr/local/lib/python3.7/dist-packages (0.9.0)\n",
            "Collecting pandas-datareader\n",
            "  Downloading pandas_datareader-0.10.0-py3-none-any.whl (109 kB)\n",
            "\u001b[K     |████████████████████████████████| 109 kB 5.1 MB/s \n",
            "\u001b[?25hRequirement already satisfied: lxml in /usr/local/lib/python3.7/dist-packages (from pandas-datareader) (4.9.1)\n",
            "Requirement already satisfied: pandas>=0.23 in /usr/local/lib/python3.7/dist-packages (from pandas-datareader) (1.3.5)\n",
            "Requirement already satisfied: requests>=2.19.0 in /usr/local/lib/python3.7/dist-packages (from pandas-datareader) (2.23.0)\n",
            "Requirement already satisfied: numpy>=1.17.3 in /usr/local/lib/python3.7/dist-packages (from pandas>=0.23->pandas-datareader) (1.21.6)\n",
            "Requirement already satisfied: pytz>=2017.3 in /usr/local/lib/python3.7/dist-packages (from pandas>=0.23->pandas-datareader) (2022.6)\n",
            "Requirement already satisfied: python-dateutil>=2.7.3 in /usr/local/lib/python3.7/dist-packages (from pandas>=0.23->pandas-datareader) (2.8.2)\n",
            "Requirement already satisfied: six>=1.5 in /usr/local/lib/python3.7/dist-packages (from python-dateutil>=2.7.3->pandas>=0.23->pandas-datareader) (1.15.0)\n",
            "Requirement already satisfied: chardet<4,>=3.0.2 in /usr/local/lib/python3.7/dist-packages (from requests>=2.19.0->pandas-datareader) (3.0.4)\n",
            "Requirement already satisfied: idna<3,>=2.5 in /usr/local/lib/python3.7/dist-packages (from requests>=2.19.0->pandas-datareader) (2.10)\n",
            "Requirement already satisfied: urllib3!=1.25.0,!=1.25.1,<1.26,>=1.21.1 in /usr/local/lib/python3.7/dist-packages (from requests>=2.19.0->pandas-datareader) (1.24.3)\n",
            "Requirement already satisfied: certifi>=2017.4.17 in /usr/local/lib/python3.7/dist-packages (from requests>=2.19.0->pandas-datareader) (2022.9.24)\n",
            "Installing collected packages: pandas-datareader\n",
            "  Attempting uninstall: pandas-datareader\n",
            "    Found existing installation: pandas-datareader 0.9.0\n",
            "    Uninstalling pandas-datareader-0.9.0:\n",
            "      Successfully uninstalled pandas-datareader-0.9.0\n",
            "Successfully installed pandas-datareader-0.10.0\n"
          ]
        }
      ],
      "source": [
        "\n",
        "!pip install numpy\n",
        "!pip install --upgrade pandas\n",
        "!pip install --upgrade pandas-datareader\n",
        "# Use pandas web datareader to pull financial information\n",
        "import pandas_datareader as web\n",
        "import pandas as pd\n",
        "import numpy as np"
      ]
    },
    {
      "cell_type": "code",
      "source": [
        "# Import stock data from Yahoo Finance API\n",
        "user_input = input('Please enter a stock ticker: ')\n",
        "stock_data= web.DataReader(user_input,data_source=\"yahoo\",start='2015-01-01',end='2021-09-30')\n",
        "stock_data.head()"
      ],
      "metadata": {
        "colab": {
          "base_uri": "https://localhost:8080/",
          "height": 255
        },
        "id": "4EJxPs9ji6N4",
        "outputId": "a858d7be-e5f7-4333-ec46-8560b265692d"
      },
      "execution_count": 3,
      "outputs": [
        {
          "name": "stdout",
          "output_type": "stream",
          "text": [
            "Please enter a stock ticker: MSFT\n"
          ]
        },
        {
          "output_type": "execute_result",
          "data": {
            "text/plain": [
              "                 High        Low       Open      Close      Volume  Adj Close\n",
              "Date                                                                         \n",
              "2015-01-02  47.419998  46.540001  46.660000  46.759998  27913900.0  40.811428\n",
              "2015-01-05  46.730000  46.250000  46.369999  46.330002  39673900.0  40.436138\n",
              "2015-01-06  46.750000  45.540001  46.380001  45.650002  36447900.0  39.842651\n",
              "2015-01-07  46.459999  45.490002  45.980000  46.230000  29114100.0  40.348858\n",
              "2015-01-08  47.750000  46.720001  46.750000  47.590000  29645200.0  41.535851"
            ],
            "text/html": [
              "\n",
              "  <div id=\"df-6f7f1ee4-541d-4a60-b55d-5f627884e3a6\">\n",
              "    <div class=\"colab-df-container\">\n",
              "      <div>\n",
              "<style scoped>\n",
              "    .dataframe tbody tr th:only-of-type {\n",
              "        vertical-align: middle;\n",
              "    }\n",
              "\n",
              "    .dataframe tbody tr th {\n",
              "        vertical-align: top;\n",
              "    }\n",
              "\n",
              "    .dataframe thead th {\n",
              "        text-align: right;\n",
              "    }\n",
              "</style>\n",
              "<table border=\"1\" class=\"dataframe\">\n",
              "  <thead>\n",
              "    <tr style=\"text-align: right;\">\n",
              "      <th></th>\n",
              "      <th>High</th>\n",
              "      <th>Low</th>\n",
              "      <th>Open</th>\n",
              "      <th>Close</th>\n",
              "      <th>Volume</th>\n",
              "      <th>Adj Close</th>\n",
              "    </tr>\n",
              "    <tr>\n",
              "      <th>Date</th>\n",
              "      <th></th>\n",
              "      <th></th>\n",
              "      <th></th>\n",
              "      <th></th>\n",
              "      <th></th>\n",
              "      <th></th>\n",
              "    </tr>\n",
              "  </thead>\n",
              "  <tbody>\n",
              "    <tr>\n",
              "      <th>2015-01-02</th>\n",
              "      <td>47.419998</td>\n",
              "      <td>46.540001</td>\n",
              "      <td>46.660000</td>\n",
              "      <td>46.759998</td>\n",
              "      <td>27913900.0</td>\n",
              "      <td>40.811428</td>\n",
              "    </tr>\n",
              "    <tr>\n",
              "      <th>2015-01-05</th>\n",
              "      <td>46.730000</td>\n",
              "      <td>46.250000</td>\n",
              "      <td>46.369999</td>\n",
              "      <td>46.330002</td>\n",
              "      <td>39673900.0</td>\n",
              "      <td>40.436138</td>\n",
              "    </tr>\n",
              "    <tr>\n",
              "      <th>2015-01-06</th>\n",
              "      <td>46.750000</td>\n",
              "      <td>45.540001</td>\n",
              "      <td>46.380001</td>\n",
              "      <td>45.650002</td>\n",
              "      <td>36447900.0</td>\n",
              "      <td>39.842651</td>\n",
              "    </tr>\n",
              "    <tr>\n",
              "      <th>2015-01-07</th>\n",
              "      <td>46.459999</td>\n",
              "      <td>45.490002</td>\n",
              "      <td>45.980000</td>\n",
              "      <td>46.230000</td>\n",
              "      <td>29114100.0</td>\n",
              "      <td>40.348858</td>\n",
              "    </tr>\n",
              "    <tr>\n",
              "      <th>2015-01-08</th>\n",
              "      <td>47.750000</td>\n",
              "      <td>46.720001</td>\n",
              "      <td>46.750000</td>\n",
              "      <td>47.590000</td>\n",
              "      <td>29645200.0</td>\n",
              "      <td>41.535851</td>\n",
              "    </tr>\n",
              "  </tbody>\n",
              "</table>\n",
              "</div>\n",
              "      <button class=\"colab-df-convert\" onclick=\"convertToInteractive('df-6f7f1ee4-541d-4a60-b55d-5f627884e3a6')\"\n",
              "              title=\"Convert this dataframe to an interactive table.\"\n",
              "              style=\"display:none;\">\n",
              "        \n",
              "  <svg xmlns=\"http://www.w3.org/2000/svg\" height=\"24px\"viewBox=\"0 0 24 24\"\n",
              "       width=\"24px\">\n",
              "    <path d=\"M0 0h24v24H0V0z\" fill=\"none\"/>\n",
              "    <path d=\"M18.56 5.44l.94 2.06.94-2.06 2.06-.94-2.06-.94-.94-2.06-.94 2.06-2.06.94zm-11 1L8.5 8.5l.94-2.06 2.06-.94-2.06-.94L8.5 2.5l-.94 2.06-2.06.94zm10 10l.94 2.06.94-2.06 2.06-.94-2.06-.94-.94-2.06-.94 2.06-2.06.94z\"/><path d=\"M17.41 7.96l-1.37-1.37c-.4-.4-.92-.59-1.43-.59-.52 0-1.04.2-1.43.59L10.3 9.45l-7.72 7.72c-.78.78-.78 2.05 0 2.83L4 21.41c.39.39.9.59 1.41.59.51 0 1.02-.2 1.41-.59l7.78-7.78 2.81-2.81c.8-.78.8-2.07 0-2.86zM5.41 20L4 18.59l7.72-7.72 1.47 1.35L5.41 20z\"/>\n",
              "  </svg>\n",
              "      </button>\n",
              "      \n",
              "  <style>\n",
              "    .colab-df-container {\n",
              "      display:flex;\n",
              "      flex-wrap:wrap;\n",
              "      gap: 12px;\n",
              "    }\n",
              "\n",
              "    .colab-df-convert {\n",
              "      background-color: #E8F0FE;\n",
              "      border: none;\n",
              "      border-radius: 50%;\n",
              "      cursor: pointer;\n",
              "      display: none;\n",
              "      fill: #1967D2;\n",
              "      height: 32px;\n",
              "      padding: 0 0 0 0;\n",
              "      width: 32px;\n",
              "    }\n",
              "\n",
              "    .colab-df-convert:hover {\n",
              "      background-color: #E2EBFA;\n",
              "      box-shadow: 0px 1px 2px rgba(60, 64, 67, 0.3), 0px 1px 3px 1px rgba(60, 64, 67, 0.15);\n",
              "      fill: #174EA6;\n",
              "    }\n",
              "\n",
              "    [theme=dark] .colab-df-convert {\n",
              "      background-color: #3B4455;\n",
              "      fill: #D2E3FC;\n",
              "    }\n",
              "\n",
              "    [theme=dark] .colab-df-convert:hover {\n",
              "      background-color: #434B5C;\n",
              "      box-shadow: 0px 1px 3px 1px rgba(0, 0, 0, 0.15);\n",
              "      filter: drop-shadow(0px 1px 2px rgba(0, 0, 0, 0.3));\n",
              "      fill: #FFFFFF;\n",
              "    }\n",
              "  </style>\n",
              "\n",
              "      <script>\n",
              "        const buttonEl =\n",
              "          document.querySelector('#df-6f7f1ee4-541d-4a60-b55d-5f627884e3a6 button.colab-df-convert');\n",
              "        buttonEl.style.display =\n",
              "          google.colab.kernel.accessAllowed ? 'block' : 'none';\n",
              "\n",
              "        async function convertToInteractive(key) {\n",
              "          const element = document.querySelector('#df-6f7f1ee4-541d-4a60-b55d-5f627884e3a6');\n",
              "          const dataTable =\n",
              "            await google.colab.kernel.invokeFunction('convertToInteractive',\n",
              "                                                     [key], {});\n",
              "          if (!dataTable) return;\n",
              "\n",
              "          const docLinkHtml = 'Like what you see? Visit the ' +\n",
              "            '<a target=\"_blank\" href=https://colab.research.google.com/notebooks/data_table.ipynb>data table notebook</a>'\n",
              "            + ' to learn more about interactive tables.';\n",
              "          element.innerHTML = '';\n",
              "          dataTable['output_type'] = 'display_data';\n",
              "          await google.colab.output.renderOutput(dataTable, element);\n",
              "          const docLink = document.createElement('div');\n",
              "          docLink.innerHTML = docLinkHtml;\n",
              "          element.appendChild(docLink);\n",
              "        }\n",
              "      </script>\n",
              "    </div>\n",
              "  </div>\n",
              "  "
            ]
          },
          "metadata": {},
          "execution_count": 3
        }
      ]
    },
    {
      "cell_type": "code",
      "source": [
        "stock_data.shape"
      ],
      "metadata": {
        "colab": {
          "base_uri": "https://localhost:8080/"
        },
        "id": "Sd_nUxcok9gA",
        "outputId": "d09295ee-3774-4772-c8a8-168fc1850edc"
      },
      "execution_count": 4,
      "outputs": [
        {
          "output_type": "execute_result",
          "data": {
            "text/plain": [
              "(1699, 6)"
            ]
          },
          "metadata": {},
          "execution_count": 4
        }
      ]
    },
    {
      "cell_type": "code",
      "source": [
        "#Pull the closing price in stock's history\n",
        "!pip install matplotlib\n",
        "import seaborn as sns\n",
        "from matplotlib import pyplot as plt\n",
        "plt.figure(figsize=(16,8))\n",
        "sns.lineplot(x= stock_data.index,y=stock_data['Close'])\n",
        "plt.xlabel('Date', fontsize=20)\n",
        "plt.ylabel('Closing Price USD',fontsize=20)\n",
        "plt.title('Closing Price History',fontsize=25)"
      ],
      "metadata": {
        "colab": {
          "base_uri": "https://localhost:8080/",
          "height": 705
        },
        "id": "nHHf9VzRlAOf",
        "outputId": "299e55d4-b598-4319-d704-7d1a2ba3633b"
      },
      "execution_count": 5,
      "outputs": [
        {
          "output_type": "stream",
          "name": "stdout",
          "text": [
            "Looking in indexes: https://pypi.org/simple, https://us-python.pkg.dev/colab-wheels/public/simple/\n",
            "Requirement already satisfied: matplotlib in /usr/local/lib/python3.7/dist-packages (3.2.2)\n",
            "Requirement already satisfied: python-dateutil>=2.1 in /usr/local/lib/python3.7/dist-packages (from matplotlib) (2.8.2)\n",
            "Requirement already satisfied: kiwisolver>=1.0.1 in /usr/local/lib/python3.7/dist-packages (from matplotlib) (1.4.4)\n",
            "Requirement already satisfied: cycler>=0.10 in /usr/local/lib/python3.7/dist-packages (from matplotlib) (0.11.0)\n",
            "Requirement already satisfied: numpy>=1.11 in /usr/local/lib/python3.7/dist-packages (from matplotlib) (1.21.6)\n",
            "Requirement already satisfied: pyparsing!=2.0.4,!=2.1.2,!=2.1.6,>=2.0.1 in /usr/local/lib/python3.7/dist-packages (from matplotlib) (3.0.9)\n",
            "Requirement already satisfied: typing-extensions in /usr/local/lib/python3.7/dist-packages (from kiwisolver>=1.0.1->matplotlib) (4.1.1)\n",
            "Requirement already satisfied: six>=1.5 in /usr/local/lib/python3.7/dist-packages (from python-dateutil>=2.1->matplotlib) (1.15.0)\n"
          ]
        },
        {
          "output_type": "execute_result",
          "data": {
            "text/plain": [
              "Text(0.5, 1.0, 'Closing Price History')"
            ]
          },
          "metadata": {},
          "execution_count": 5
        },
        {
          "output_type": "display_data",
          "data": {
            "text/plain": [
              "<Figure size 1152x576 with 1 Axes>"
            ],
            "image/png": "[encoded data removed]"
          },
          "metadata": {
            "needs_background": "light"
          }
        }
      ]
    },
    {
      "cell_type": "code",
      "source": [
        "# Split into train and test dataset\n",
        "data_to_train = stock_data[:1530]\n",
        "data_to_test = stock_data[1530:]"
      ],
      "metadata": {
        "id": "ijPOcnYJC1mC"
      },
      "execution_count": 6,
      "outputs": []
    },
    {
      "cell_type": "code",
      "source": [
        "# Save a training dataset and testing dataset\n",
        "data_to_train.to_csv('train_data.csv')\n",
        "data_to_test.to_csv('test_data.csv')"
      ],
      "metadata": {
        "id": "3FCG1DECC27w"
      },
      "execution_count": 7,
      "outputs": []
    },
    {
      "cell_type": "code",
      "source": [
        "user_data= stock_data.iloc[: , 3:4]\n",
        "user_data.head()"
      ],
      "metadata": {
        "colab": {
          "base_uri": "https://localhost:8080/",
          "height": 238
        },
        "id": "vgomk6xvC3zi",
        "outputId": "567ca7bd-cbe9-42fb-ff15-2e865e1099aa"
      },
      "execution_count": 8,
      "outputs": [
        {
          "output_type": "execute_result",
          "data": {
            "text/plain": [
              "                Close\n",
              "Date                 \n",
              "2015-01-02  46.759998\n",
              "2015-01-05  46.330002\n",
              "2015-01-06  45.650002\n",
              "2015-01-07  46.230000\n",
              "2015-01-08  47.590000"
            ],
            "text/html": [
              "\n",
              "  <div id=\"df-24e5996e-7f6b-4493-8056-6d689cc998ba\">\n",
              "    <div class=\"colab-df-container\">\n",
              "      <div>\n",
              "<style scoped>\n",
              "    .dataframe tbody tr th:only-of-type {\n",
              "        vertical-align: middle;\n",
              "    }\n",
              "\n",
              "    .dataframe tbody tr th {\n",
              "        vertical-align: top;\n",
              "    }\n",
              "\n",
              "    .dataframe thead th {\n",
              "        text-align: right;\n",
              "    }\n",
              "</style>\n",
              "<table border=\"1\" class=\"dataframe\">\n",
              "  <thead>\n",
              "    <tr style=\"text-align: right;\">\n",
              "      <th></th>\n",
              "      <th>Close</th>\n",
              "    </tr>\n",
              "    <tr>\n",
              "      <th>Date</th>\n",
              "      <th></th>\n",
              "    </tr>\n",
              "  </thead>\n",
              "  <tbody>\n",
              "    <tr>\n",
              "      <th>2015-01-02</th>\n",
              "      <td>46.759998</td>\n",
              "    </tr>\n",
              "    <tr>\n",
              "      <th>2015-01-05</th>\n",
              "      <td>46.330002</td>\n",
              "    </tr>\n",
              "    <tr>\n",
              "      <th>2015-01-06</th>\n",
              "      <td>45.650002</td>\n",
              "    </tr>\n",
              "    <tr>\n",
              "      <th>2015-01-07</th>\n",
              "      <td>46.230000</td>\n",
              "    </tr>\n",
              "    <tr>\n",
              "      <th>2015-01-08</th>\n",
              "      <td>47.590000</td>\n",
              "    </tr>\n",
              "  </tbody>\n",
              "</table>\n",
              "</div>\n",
              "      <button class=\"colab-df-convert\" onclick=\"convertToInteractive('df-24e5996e-7f6b-4493-8056-6d689cc998ba')\"\n",
              "              title=\"Convert this dataframe to an interactive table.\"\n",
              "              style=\"display:none;\">\n",
              "        \n",
              "  <svg xmlns=\"http://www.w3.org/2000/svg\" height=\"24px\"viewBox=\"0 0 24 24\"\n",
              "       width=\"24px\">\n",
              "    <path d=\"M0 0h24v24H0V0z\" fill=\"none\"/>\n",
              "    <path d=\"M18.56 5.44l.94 2.06.94-2.06 2.06-.94-2.06-.94-.94-2.06-.94 2.06-2.06.94zm-11 1L8.5 8.5l.94-2.06 2.06-.94-2.06-.94L8.5 2.5l-.94 2.06-2.06.94zm10 10l.94 2.06.94-2.06 2.06-.94-2.06-.94-.94-2.06-.94 2.06-2.06.94z\"/><path d=\"M17.41 7.96l-1.37-1.37c-.4-.4-.92-.59-1.43-.59-.52 0-1.04.2-1.43.59L10.3 9.45l-7.72 7.72c-.78.78-.78 2.05 0 2.83L4 21.41c.39.39.9.59 1.41.59.51 0 1.02-.2 1.41-.59l7.78-7.78 2.81-2.81c.8-.78.8-2.07 0-2.86zM5.41 20L4 18.59l7.72-7.72 1.47 1.35L5.41 20z\"/>\n",
              "  </svg>\n",
              "      </button>\n",
              "      \n",
              "  <style>\n",
              "    .colab-df-container {\n",
              "      display:flex;\n",
              "      flex-wrap:wrap;\n",
              "      gap: 12px;\n",
              "    }\n",
              "\n",
              "    .colab-df-convert {\n",
              "      background-color: #E8F0FE;\n",
              "      border: none;\n",
              "      border-radius: 50%;\n",
              "      cursor: pointer;\n",
              "      display: none;\n",
              "      fill: #1967D2;\n",
              "      height: 32px;\n",
              "      padding: 0 0 0 0;\n",
              "      width: 32px;\n",
              "    }\n",
              "\n",
              "    .colab-df-convert:hover {\n",
              "      background-color: #E2EBFA;\n",
              "      box-shadow: 0px 1px 2px rgba(60, 64, 67, 0.3), 0px 1px 3px 1px rgba(60, 64, 67, 0.15);\n",
              "      fill: #174EA6;\n",
              "    }\n",
              "\n",
              "    [theme=dark] .colab-df-convert {\n",
              "      background-color: #3B4455;\n",
              "      fill: #D2E3FC;\n",
              "    }\n",
              "\n",
              "    [theme=dark] .colab-df-convert:hover {\n",
              "      background-color: #434B5C;\n",
              "      box-shadow: 0px 1px 3px 1px rgba(0, 0, 0, 0.15);\n",
              "      filter: drop-shadow(0px 1px 2px rgba(0, 0, 0, 0.3));\n",
              "      fill: #FFFFFF;\n",
              "    }\n",
              "  </style>\n",
              "\n",
              "      <script>\n",
              "        const buttonEl =\n",
              "          document.querySelector('#df-24e5996e-7f6b-4493-8056-6d689cc998ba button.colab-df-convert');\n",
              "        buttonEl.style.display =\n",
              "          google.colab.kernel.accessAllowed ? 'block' : 'none';\n",
              "\n",
              "        async function convertToInteractive(key) {\n",
              "          const element = document.querySelector('#df-24e5996e-7f6b-4493-8056-6d689cc998ba');\n",
              "          const dataTable =\n",
              "            await google.colab.kernel.invokeFunction('convertToInteractive',\n",
              "                                                     [key], {});\n",
              "          if (!dataTable) return;\n",
              "\n",
              "          const docLinkHtml = 'Like what you see? Visit the ' +\n",
              "            '<a target=\"_blank\" href=https://colab.research.google.com/notebooks/data_table.ipynb>data table notebook</a>'\n",
              "            + ' to learn more about interactive tables.';\n",
              "          element.innerHTML = '';\n",
              "          dataTable['output_type'] = 'display_data';\n",
              "          await google.colab.output.renderOutput(dataTable, element);\n",
              "          const docLink = document.createElement('div');\n",
              "          docLink.innerHTML = docLinkHtml;\n",
              "          element.appendChild(docLink);\n",
              "        }\n",
              "      </script>\n",
              "    </div>\n",
              "  </div>\n",
              "  "
            ]
          },
          "metadata": {},
          "execution_count": 8
        }
      ]
    },
    {
      "cell_type": "code",
      "source": [
        "# Create NumPy array\n",
        "training_dataset= user_data.iloc[:1530,:].values"
      ],
      "metadata": {
        "id": "swYgHFoAC6M4"
      },
      "execution_count": 9,
      "outputs": []
    },
    {
      "cell_type": "code",
      "source": [
        "testing_dataset= user_data.iloc[1530:,:].values"
      ],
      "metadata": {
        "id": "H-c6VMQTC7gU"
      },
      "execution_count": 10,
      "outputs": []
    },
    {
      "cell_type": "code",
      "source": [
        "# Normalizae the training dataset\n",
        "from sklearn.preprocessing import MinMaxScaler\n",
        "sc= MinMaxScaler(feature_range=(0,1))\n",
        "scaled_training_dataset = sc.fit_transform(training_dataset)"
      ],
      "metadata": {
        "id": "C7LJwACyC8zk"
      },
      "execution_count": 11,
      "outputs": []
    },
    {
      "cell_type": "code",
      "source": [
        "# Create data structure with 60 timesteps and 1 output\n",
        "X_train= [] # Independent variable\n",
        "y_train= [] # Dependent ''  \n",
        "# Append past 60 days data \n",
        "for i in range(60,1530):\n",
        "    X_train.append(scaled_training_dataset[i-60:i,0]) # Append previous 60 days, not including 60 (i - 60)\n",
        "    y_train.append(scaled_training_dataset[i,0])\n",
        "    \n",
        "X_train, y_train= np.array(X_train), np.array(y_train)"
      ],
      "metadata": {
        "id": "YZOVmT3uC-ik"
      },
      "execution_count": 12,
      "outputs": []
    },
    {
      "cell_type": "code",
      "source": [
        "X_train.shape, y_train.shape"
      ],
      "metadata": {
        "colab": {
          "base_uri": "https://localhost:8080/"
        },
        "id": "fFzuB1wCC_yz",
        "outputId": "5aabefe4-4451-452e-ae75-d020dc4fd8e5"
      },
      "execution_count": 13,
      "outputs": [
        {
          "output_type": "execute_result",
          "data": {
            "text/plain": [
              "((1470, 60), (1470,))"
            ]
          },
          "metadata": {},
          "execution_count": 13
        }
      ]
    },
    {
      "cell_type": "code",
      "source": [
        "# Reshape the LSMT model to be 3-D\n",
        "X_train= np.reshape(X_train,(X_train.shape[0],X_train.shape[1],1))\n",
        "X_train.shape"
      ],
      "metadata": {
        "colab": {
          "base_uri": "https://localhost:8080/"
        },
        "id": "hhia9XA_DA8n",
        "outputId": "f8f067fe-fa75-46c6-b3ec-c7cb9fc232c1"
      },
      "execution_count": 14,
      "outputs": [
        {
          "output_type": "execute_result",
          "data": {
            "text/plain": [
              "(1470, 60, 1)"
            ]
          },
          "metadata": {},
          "execution_count": 14
        }
      ]
    },
    {
      "cell_type": "code",
      "source": [
        "# Importing the Keras libraries and packages\n",
        "import tensorflow as tf\n",
        "from tensorflow.keras.models import Sequential\n",
        "from tensorflow.keras.layers import Dense, Dropout, LSTM\n",
        "\n",
        "#  Initialize the RNN\n",
        "model= Sequential()\n",
        "\n",
        "# Add the first LSTM layer and some dropout regularisation\n",
        "model.add(LSTM(units=100,return_sequences=True, input_shape=(X_train.shape[1],1)))\n",
        "model.add(Dropout(rate=0.4))\n",
        "\n",
        "# Second ''\n",
        "model.add(LSTM(units=100,return_sequences=True))\n",
        "model.add(Dropout(rate=0.4))\n",
        "\n",
        "# Third ''\n",
        "model.add(LSTM(units=100,return_sequences=True))\n",
        "model.add(Dropout(rate=0.4))\n",
        "\n",
        "# Fourth '' \n",
        "model.add(LSTM(units=100,return_sequences=True))\n",
        "model.add(Dropout(rate=0.4))\n",
        "\n",
        "# Fifth ''\n",
        "model.add(LSTM(units=100))\n",
        "model.add(Dropout(rate=0.4))\n",
        "\n",
        "# Add the Output Layer\n",
        "model.add(Dense(units=1))\n",
        "\n",
        "# Compiling the Model (regression)\n",
        "model.compile(loss='mean_squared_error', optimizer='adam')"
      ],
      "metadata": {
        "id": "fvOWGqR1DCzW"
      },
      "execution_count": 40,
      "outputs": []
    },
    {
      "cell_type": "code",
      "source": [
        "model.summary()"
      ],
      "metadata": {
        "colab": {
          "base_uri": "https://localhost:8080/"
        },
        "id": "6vd5kHwCDE1Q",
        "outputId": "3bc7f37b-62f5-4893-b66a-1a76feada619"
      },
      "execution_count": 41,
      "outputs": [
        {
          "output_type": "stream",
          "name": "stdout",
          "text": [
            "Model: \"sequential_2\"\n",
            "_________________________________________________________________\n",
            " Layer (type)                Output Shape              Param #   \n",
            "=================================================================\n",
            " lstm_10 (LSTM)              (None, 60, 100)           40800     \n",
            "                                                                 \n",
            " dropout_10 (Dropout)        (None, 60, 100)           0         \n",
            "                                                                 \n",
            " lstm_11 (LSTM)              (None, 60, 100)           80400     \n",
            "                                                                 \n",
            " dropout_11 (Dropout)        (None, 60, 100)           0         \n",
            "                                                                 \n",
            " lstm_12 (LSTM)              (None, 60, 100)           80400     \n",
            "                                                                 \n",
            " dropout_12 (Dropout)        (None, 60, 100)           0         \n",
            "                                                                 \n",
            " lstm_13 (LSTM)              (None, 60, 100)           80400     \n",
            "                                                                 \n",
            " dropout_13 (Dropout)        (None, 60, 100)           0         \n",
            "                                                                 \n",
            " lstm_14 (LSTM)              (None, 100)               80400     \n",
            "                                                                 \n",
            " dropout_14 (Dropout)        (None, 100)               0         \n",
            "                                                                 \n",
            " dense_2 (Dense)             (None, 1)                 101       \n",
            "                                                                 \n",
            "=================================================================\n",
            "Total params: 362,501\n",
            "Trainable params: 362,501\n",
            "Non-trainable params: 0\n",
            "_________________________________________________________________\n"
          ]
        }
      ]
    },
    {
      "cell_type": "code",
      "source": [
        "# Fitting our model to the Training dataset\n",
        "history=model.fit(X_train,y_train,epochs=35,batch_size=32)"
      ],
      "metadata": {
        "colab": {
          "base_uri": "https://localhost:8080/"
        },
        "id": "0zPHknQ-DHKx",
        "outputId": "4082c4a3-849d-4893-c3e5-06b1f3405efe"
      },
      "execution_count": 42,
      "outputs": [
        {
          "output_type": "stream",
          "name": "stdout",
          "text": [
            "Epoch 1/35\n",
            "46/46 [==============================] - 24s 303ms/step - loss: 0.0144\n",
            "Epoch 2/35\n",
            "46/46 [==============================] - 13s 280ms/step - loss: 0.0042\n",
            "Epoch 3/35\n",
            "46/46 [==============================] - 13s 279ms/step - loss: 0.0038\n",
            "Epoch 4/35\n",
            "46/46 [==============================] - 13s 279ms/step - loss: 0.0039\n",
            "Epoch 5/35\n",
            "46/46 [==============================] - 13s 283ms/step - loss: 0.0038\n",
            "Epoch 6/35\n",
            "46/46 [==============================] - 14s 300ms/step - loss: 0.0037\n",
            "Epoch 7/35\n",
            "46/46 [==============================] - 13s 281ms/step - loss: 0.0036\n",
            "Epoch 8/35\n",
            "46/46 [==============================] - 13s 282ms/step - loss: 0.0027\n",
            "Epoch 9/35\n",
            "46/46 [==============================] - 13s 281ms/step - loss: 0.0029\n",
            "Epoch 10/35\n",
            "46/46 [==============================] - 13s 280ms/step - loss: 0.0034\n",
            "Epoch 11/35\n",
            "46/46 [==============================] - 13s 283ms/step - loss: 0.0037\n",
            "Epoch 12/35\n",
            "46/46 [==============================] - 13s 282ms/step - loss: 0.0028\n",
            "Epoch 13/35\n",
            "46/46 [==============================] - 13s 280ms/step - loss: 0.0024\n",
            "Epoch 14/35\n",
            "46/46 [==============================] - 13s 280ms/step - loss: 0.0028\n",
            "Epoch 15/35\n",
            "46/46 [==============================] - 13s 279ms/step - loss: 0.0028\n",
            "Epoch 16/35\n",
            "46/46 [==============================] - 13s 279ms/step - loss: 0.0025\n",
            "Epoch 17/35\n",
            "46/46 [==============================] - 13s 280ms/step - loss: 0.0022\n",
            "Epoch 18/35\n",
            "46/46 [==============================] - 13s 279ms/step - loss: 0.0022\n",
            "Epoch 19/35\n",
            "46/46 [==============================] - 14s 304ms/step - loss: 0.0026\n",
            "Epoch 20/35\n",
            "46/46 [==============================] - 13s 279ms/step - loss: 0.0022\n",
            "Epoch 21/35\n",
            "46/46 [==============================] - 13s 279ms/step - loss: 0.0022\n",
            "Epoch 22/35\n",
            "46/46 [==============================] - 13s 281ms/step - loss: 0.0020\n",
            "Epoch 23/35\n",
            "46/46 [==============================] - 13s 278ms/step - loss: 0.0024\n",
            "Epoch 24/35\n",
            "46/46 [==============================] - 13s 280ms/step - loss: 0.0028\n",
            "Epoch 25/35\n",
            "46/46 [==============================] - 13s 281ms/step - loss: 0.0022\n",
            "Epoch 26/35\n",
            "46/46 [==============================] - 13s 280ms/step - loss: 0.0018\n",
            "Epoch 27/35\n",
            "46/46 [==============================] - 13s 281ms/step - loss: 0.0016\n",
            "Epoch 28/35\n",
            "46/46 [==============================] - 13s 279ms/step - loss: 0.0018\n",
            "Epoch 29/35\n",
            "46/46 [==============================] - 13s 279ms/step - loss: 0.0017\n",
            "Epoch 30/35\n",
            "46/46 [==============================] - 13s 279ms/step - loss: 0.0020\n",
            "Epoch 31/35\n",
            "46/46 [==============================] - 13s 279ms/step - loss: 0.0020\n",
            "Epoch 32/35\n",
            "46/46 [==============================] - 14s 306ms/step - loss: 0.0021\n",
            "Epoch 33/35\n",
            "46/46 [==============================] - 13s 278ms/step - loss: 0.0020\n",
            "Epoch 34/35\n",
            "46/46 [==============================] - 13s 281ms/step - loss: 0.0016\n",
            "Epoch 35/35\n",
            "46/46 [==============================] - 13s 279ms/step - loss: 0.0017\n"
          ]
        }
      ]
    },
    {
      "cell_type": "code",
      "source": [
        "train_data = pd.read_csv('train_data.csv')\n",
        "test_data = pd.read_csv('test_data.csv')"
      ],
      "metadata": {
        "id": "eYxPXEojIlAZ"
      },
      "execution_count": 43,
      "outputs": []
    },
    {
      "cell_type": "code",
      "source": [
        "real_stock_price = test_data.iloc[:, 3:4].values"
      ],
      "metadata": {
        "id": "PqASl_nXIl-y"
      },
      "execution_count": 44,
      "outputs": []
    },
    {
      "cell_type": "code",
      "source": [
        "real_stock_price.shape"
      ],
      "metadata": {
        "colab": {
          "base_uri": "https://localhost:8080/"
        },
        "id": "GH2GgYUmInbl",
        "outputId": "cda03d55-78ac-42be-f71f-59eae4e69fe4"
      },
      "execution_count": 45,
      "outputs": [
        {
          "output_type": "execute_result",
          "data": {
            "text/plain": [
              "(169, 1)"
            ]
          },
          "metadata": {},
          "execution_count": 45
        }
      ]
    },
    {
      "cell_type": "code",
      "source": [
        "testing_dataset.shape"
      ],
      "metadata": {
        "colab": {
          "base_uri": "https://localhost:8080/"
        },
        "id": "egBTpnCyIosp",
        "outputId": "5b4f30a6-1d69-427a-fa73-d1602bfb8746"
      },
      "execution_count": 46,
      "outputs": [
        {
          "output_type": "execute_result",
          "data": {
            "text/plain": [
              "(169, 1)"
            ]
          },
          "metadata": {},
          "execution_count": 46
        }
      ]
    },
    {
      "cell_type": "code",
      "source": [
        "# Concatenate the dataset and scale\n",
        "data_total= pd.concat([train_data['Close'], test_data['Close']],  axis=0)\n",
        "inputs = data_total[len(data_total)-len(test_data)-60:].values \n",
        "inputs = inputs.reshape(-1,1) \n",
        "inputs = sc.transform(inputs)\n",
        "\n",
        "X_test = []\n",
        "for i in range(60, 230):\n",
        "    X_test.append(inputs[i-60:i, 0])\n",
        "\n",
        "X_test = np.array(X_test)\n",
        "# 3D format\n",
        "X_test = np.reshape(X_test, (X_test.shape[0], X_test.shape[1], 1))"
      ],
      "metadata": {
        "id": "GratoagYIp3V"
      },
      "execution_count": 47,
      "outputs": []
    },
    {
      "cell_type": "code",
      "source": [
        "inputs.shape"
      ],
      "metadata": {
        "colab": {
          "base_uri": "https://localhost:8080/"
        },
        "id": "H6fenkqIIrD2",
        "outputId": "0851b8e2-0928-4738-ea60-a56ae112a7a9"
      },
      "execution_count": 48,
      "outputs": [
        {
          "output_type": "execute_result",
          "data": {
            "text/plain": [
              "(229, 1)"
            ]
          },
          "metadata": {},
          "execution_count": 48
        }
      ]
    },
    {
      "cell_type": "code",
      "source": [
        "data_total.shape"
      ],
      "metadata": {
        "colab": {
          "base_uri": "https://localhost:8080/"
        },
        "id": "V9Iggp23IsJ-",
        "outputId": "0aa82acd-0a2b-4521-c633-0d6bf6515c8e"
      },
      "execution_count": 49,
      "outputs": [
        {
          "output_type": "execute_result",
          "data": {
            "text/plain": [
              "(1699,)"
            ]
          },
          "metadata": {},
          "execution_count": 49
        }
      ]
    },
    {
      "cell_type": "code",
      "source": [
        "X_test.shape"
      ],
      "metadata": {
        "colab": {
          "base_uri": "https://localhost:8080/"
        },
        "id": "1QPI19EHIs50",
        "outputId": "4519584a-8d69-4916-d749-10406aa33b44"
      },
      "execution_count": 50,
      "outputs": [
        {
          "output_type": "execute_result",
          "data": {
            "text/plain": [
              "(170, 60, 1)"
            ]
          },
          "metadata": {},
          "execution_count": 50
        }
      ]
    },
    {
      "cell_type": "code",
      "source": [
        "# Make prediction from model\n",
        "predicted_stock_price = model.predict(X_test)"
      ],
      "metadata": {
        "colab": {
          "base_uri": "https://localhost:8080/"
        },
        "id": "_8EVW8dKIuPa",
        "outputId": "72d0e394-f315-421e-ad19-b9282973280d"
      },
      "execution_count": 51,
      "outputs": [
        {
          "output_type": "stream",
          "name": "stdout",
          "text": [
            "6/6 [==============================] - 4s 75ms/step\n"
          ]
        }
      ]
    },
    {
      "cell_type": "code",
      "source": [
        "# Inverse scaling\n",
        "predicted_stock_price = sc.inverse_transform(predicted_stock_price)"
      ],
      "metadata": {
        "id": "-6H11IGcIvUO"
      },
      "execution_count": 52,
      "outputs": []
    },
    {
      "cell_type": "code",
      "source": [
        "# Plot result\n",
        "plt.figure(figsize=(15,8))\n",
        "plt.plot(real_stock_price, color='Red', label='Real Stock Price')\n",
        "plt.plot(predicted_stock_price, color='Blue', label='Predicted Stock Price')\n",
        "plt.title('Stock Price Prediction',fontsize=20)\n",
        "plt.xlabel('Time', fontsize=15)\n",
        "plt.ylabel('Stock Price',fontsize=15)\n",
        "plt.legend()\n",
        "plt.show()"
      ],
      "metadata": {
        "colab": {
          "base_uri": "https://localhost:8080/",
          "height": 523
        },
        "id": "7PtFtj5IIwXj",
        "outputId": "0b2c5463-f47c-4e8c-ab1f-e4c4f8acf0a9"
      },
      "execution_count": 53,
      "outputs": [
        {
          "output_type": "display_data",
          "data": {
            "text/plain": [
              "<Figure size 1080x576 with 1 Axes>"
            ],
            "image/png": "[encoded data removed]"
          },
          "metadata": {
            "needs_background": "light"
          }
        }
      ]
    },
    {
      "cell_type": "code",
      "source": [
        "# Visualising the results\n",
        "plt.figure(figsize=(15,8))\n",
        "plt.plot(testing_dataset, color='Red', label='Real Apple Stock Price')\n",
        "plt.plot(predicted_stock_price, color='Blue', label='Predicted Apple Stock Price')\n",
        "plt.title('Stock Price Prediction')\n",
        "plt.xlabel('Time')\n",
        "plt.ylabel('Stock Price')\n",
        "plt.legend()\n",
        "plt.show()"
      ],
      "metadata": {
        "colab": {
          "base_uri": "https://localhost:8080/",
          "height": 513
        },
        "id": "lx_PFLEyIx8T",
        "outputId": "b1314384-210a-49f8-e825-a7ded7e70b93"
      },
      "execution_count": 54,
      "outputs": [
        {
          "output_type": "display_data",
          "data": {
            "text/plain": [
              "<Figure size 1080x576 with 1 Axes>"
            ],
            "image/png": "[encoded data removed]"
          },
          "metadata": {
            "needs_background": "light"
          }
        }
      ]
    },
    {
      "cell_type": "code",
      "source": [
        "print(\"Real Stock Price closing values (by day): \")\n",
        "print(pd.DataFrame(real_stock_price))\n",
        "print(\"Predicted Stock Price closing values (by day): \")\n",
        "print(pd.DataFrame(predicted_stock_price))"
      ],
      "metadata": {
        "colab": {
          "base_uri": "https://localhost:8080/"
        },
        "id": "DFHvG4Ev8mqT",
        "outputId": "079f537d-ee9a-4427-a5fe-63302879977e"
      },
      "execution_count": 59,
      "outputs": [
        {
          "output_type": "stream",
          "name": "stdout",
          "text": [
            "Real Stock Price closing values (by day): \n",
            "              0\n",
            "0    235.059998\n",
            "1    241.300003\n",
            "2    239.570007\n",
            "3    242.660004\n",
            "4    242.229996\n",
            "..          ...\n",
            "164  298.230011\n",
            "165  296.140015\n",
            "166  289.799988\n",
            "167  285.100006\n",
            "168  285.709991\n",
            "\n",
            "[169 rows x 1 columns]\n",
            "Predicted Stock Price closing values (by day): \n",
            "              0\n",
            "0    223.117371\n",
            "1    225.023666\n",
            "2    226.833740\n",
            "3    228.495087\n",
            "4    229.967285\n",
            "..          ...\n",
            "165  257.895416\n",
            "166  257.991974\n",
            "167  258.058502\n",
            "168  258.049316\n",
            "169  257.937347\n",
            "\n",
            "[170 rows x 1 columns]\n"
          ]
        }
      ]
    }
  ]
}