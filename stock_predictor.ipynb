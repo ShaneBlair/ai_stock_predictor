{
  "nbformat": 4,
  "nbformat_minor": 0,
  "metadata": {
    "colab": {
      "provenance": [],
      "collapsed_sections": [],
      "authorship_tag": "ABX9TyM9AbztDZC2G2XzN72/mQnS",
      "include_colab_link": true
    },
    "kernelspec": {
      "name": "python3",
      "display_name": "Python 3"
    },
    "language_info": {
      "name": "python"
    }
  },
  "cells": [
    {
      "cell_type": "markdown",
      "metadata": {
        "id": "view-in-github",
        "colab_type": "text"
      },
      "source": [
        "<a href=\"https://colab.research.google.com/github/ShaneBlair/ai_stock_predictor/blob/dev/stock_predictor.ipynb\" target=\"_parent\"><img src=\"https://colab.research.google.com/assets/colab-badge.svg\" alt=\"Open In Colab\"/></a>"
      ]
    },
    {
      "cell_type": "code",
      "execution_count": 1,
      "metadata": {
        "colab": {
          "base_uri": "https://localhost:8080/"
        },
        "id": "1v4UVWebfrzA",
        "outputId": "eba28ef8-20b1-46ee-f8bb-39c84a5be90b"
      },
      "outputs": [
        {
          "output_type": "stream",
          "name": "stdout",
          "text": [
            "Looking in indexes: https://pypi.org/simple, https://us-python.pkg.dev/colab-wheels/public/simple/\n",
            "Requirement already satisfied: seaborn in /usr/local/lib/python3.7/dist-packages (0.11.2)\n",
            "Requirement already satisfied: matplotlib>=2.2 in /usr/local/lib/python3.7/dist-packages (from seaborn) (3.2.2)\n",
            "Requirement already satisfied: scipy>=1.0 in /usr/local/lib/python3.7/dist-packages (from seaborn) (1.7.3)\n",
            "Requirement already satisfied: pandas>=0.23 in /usr/local/lib/python3.7/dist-packages (from seaborn) (1.3.5)\n",
            "Requirement already satisfied: numpy>=1.15 in /usr/local/lib/python3.7/dist-packages (from seaborn) (1.21.6)\n",
            "Requirement already satisfied: kiwisolver>=1.0.1 in /usr/local/lib/python3.7/dist-packages (from matplotlib>=2.2->seaborn) (1.4.4)\n",
            "Requirement already satisfied: cycler>=0.10 in /usr/local/lib/python3.7/dist-packages (from matplotlib>=2.2->seaborn) (0.11.0)\n",
            "Requirement already satisfied: python-dateutil>=2.1 in /usr/local/lib/python3.7/dist-packages (from matplotlib>=2.2->seaborn) (2.8.2)\n",
            "Requirement already satisfied: pyparsing!=2.0.4,!=2.1.2,!=2.1.6,>=2.0.1 in /usr/local/lib/python3.7/dist-packages (from matplotlib>=2.2->seaborn) (3.0.9)\n",
            "Requirement already satisfied: typing-extensions in /usr/local/lib/python3.7/dist-packages (from kiwisolver>=1.0.1->matplotlib>=2.2->seaborn) (4.1.1)\n",
            "Requirement already satisfied: pytz>=2017.3 in /usr/local/lib/python3.7/dist-packages (from pandas>=0.23->seaborn) (2022.6)\n",
            "Requirement already satisfied: six>=1.5 in /usr/local/lib/python3.7/dist-packages (from python-dateutil>=2.1->matplotlib>=2.2->seaborn) (1.15.0)\n",
            "Looking in indexes: https://pypi.org/simple, https://us-python.pkg.dev/colab-wheels/public/simple/\n",
            "Requirement already satisfied: matplotlib in /usr/local/lib/python3.7/dist-packages (3.2.2)\n",
            "Requirement already satisfied: kiwisolver>=1.0.1 in /usr/local/lib/python3.7/dist-packages (from matplotlib) (1.4.4)\n",
            "Requirement already satisfied: pyparsing!=2.0.4,!=2.1.2,!=2.1.6,>=2.0.1 in /usr/local/lib/python3.7/dist-packages (from matplotlib) (3.0.9)\n",
            "Requirement already satisfied: python-dateutil>=2.1 in /usr/local/lib/python3.7/dist-packages (from matplotlib) (2.8.2)\n",
            "Requirement already satisfied: numpy>=1.11 in /usr/local/lib/python3.7/dist-packages (from matplotlib) (1.21.6)\n",
            "Requirement already satisfied: cycler>=0.10 in /usr/local/lib/python3.7/dist-packages (from matplotlib) (0.11.0)\n",
            "Requirement already satisfied: typing-extensions in /usr/local/lib/python3.7/dist-packages (from kiwisolver>=1.0.1->matplotlib) (4.1.1)\n",
            "Requirement already satisfied: six>=1.5 in /usr/local/lib/python3.7/dist-packages (from python-dateutil>=2.1->matplotlib) (1.15.0)\n",
            "Looking in indexes: https://pypi.org/simple, https://us-python.pkg.dev/colab-wheels/public/simple/\n",
            "Requirement already satisfied: datetime in /usr/local/lib/python3.7/dist-packages (4.7)\n",
            "Requirement already satisfied: zope.interface in /usr/local/lib/python3.7/dist-packages (from datetime) (5.5.1)\n",
            "Requirement already satisfied: pytz in /usr/local/lib/python3.7/dist-packages (from datetime) (2022.6)\n",
            "Requirement already satisfied: setuptools in /usr/local/lib/python3.7/dist-packages (from zope.interface->datetime) (57.4.0)\n",
            "Looking in indexes: https://pypi.org/simple, https://us-python.pkg.dev/colab-wheels/public/simple/\n",
            "Requirement already satisfied: pandas in /usr/local/lib/python3.7/dist-packages (1.3.5)\n",
            "Requirement already satisfied: pytz>=2017.3 in /usr/local/lib/python3.7/dist-packages (from pandas) (2022.6)\n",
            "Requirement already satisfied: numpy>=1.17.3 in /usr/local/lib/python3.7/dist-packages (from pandas) (1.21.6)\n",
            "Requirement already satisfied: python-dateutil>=2.7.3 in /usr/local/lib/python3.7/dist-packages (from pandas) (2.8.2)\n",
            "Requirement already satisfied: six>=1.5 in /usr/local/lib/python3.7/dist-packages (from python-dateutil>=2.7.3->pandas) (1.15.0)\n",
            "Looking in indexes: https://pypi.org/simple, https://us-python.pkg.dev/colab-wheels/public/simple/\n",
            "Requirement already satisfied: pandas_datareader in /usr/local/lib/python3.7/dist-packages (0.10.0)\n",
            "Requirement already satisfied: requests>=2.19.0 in /usr/local/lib/python3.7/dist-packages (from pandas_datareader) (2.23.0)\n",
            "Requirement already satisfied: pandas>=0.23 in /usr/local/lib/python3.7/dist-packages (from pandas_datareader) (1.3.5)\n",
            "Requirement already satisfied: lxml in /usr/local/lib/python3.7/dist-packages (from pandas_datareader) (4.9.1)\n",
            "Requirement already satisfied: pytz>=2017.3 in /usr/local/lib/python3.7/dist-packages (from pandas>=0.23->pandas_datareader) (2022.6)\n",
            "Requirement already satisfied: numpy>=1.17.3 in /usr/local/lib/python3.7/dist-packages (from pandas>=0.23->pandas_datareader) (1.21.6)\n",
            "Requirement already satisfied: python-dateutil>=2.7.3 in /usr/local/lib/python3.7/dist-packages (from pandas>=0.23->pandas_datareader) (2.8.2)\n",
            "Requirement already satisfied: six>=1.5 in /usr/local/lib/python3.7/dist-packages (from python-dateutil>=2.7.3->pandas>=0.23->pandas_datareader) (1.15.0)\n",
            "Requirement already satisfied: certifi>=2017.4.17 in /usr/local/lib/python3.7/dist-packages (from requests>=2.19.0->pandas_datareader) (2022.9.24)\n",
            "Requirement already satisfied: idna<3,>=2.5 in /usr/local/lib/python3.7/dist-packages (from requests>=2.19.0->pandas_datareader) (2.10)\n",
            "Requirement already satisfied: urllib3!=1.25.0,!=1.25.1,<1.26,>=1.21.1 in /usr/local/lib/python3.7/dist-packages (from requests>=2.19.0->pandas_datareader) (1.24.3)\n",
            "Requirement already satisfied: chardet<4,>=3.0.2 in /usr/local/lib/python3.7/dist-packages (from requests>=2.19.0->pandas_datareader) (3.0.4)\n",
            "Looking in indexes: https://pypi.org/simple, https://us-python.pkg.dev/colab-wheels/public/simple/\n",
            "Requirement already satisfied: numpy in /usr/local/lib/python3.7/dist-packages (1.21.6)\n",
            "Looking in indexes: https://pypi.org/simple, https://us-python.pkg.dev/colab-wheels/public/simple/\n",
            "\u001b[31mERROR: Could not find a version that satisfies the requirement os (from versions: none)\u001b[0m\n",
            "\u001b[31mERROR: No matching distribution found for os\u001b[0m\n",
            "Looking in indexes: https://pypi.org/simple, https://us-python.pkg.dev/colab-wheels/public/simple/\n",
            "Requirement already satisfied: tensorflow in /usr/local/lib/python3.7/dist-packages (2.9.2)\n",
            "Requirement already satisfied: absl-py>=1.0.0 in /usr/local/lib/python3.7/dist-packages (from tensorflow) (1.3.0)\n",
            "Requirement already satisfied: keras-preprocessing>=1.1.1 in /usr/local/lib/python3.7/dist-packages (from tensorflow) (1.1.2)\n",
            "Requirement already satisfied: tensorflow-io-gcs-filesystem>=0.23.1 in /usr/local/lib/python3.7/dist-packages (from tensorflow) (0.27.0)\n",
            "Requirement already satisfied: numpy>=1.20 in /usr/local/lib/python3.7/dist-packages (from tensorflow) (1.21.6)\n",
            "Requirement already satisfied: tensorflow-estimator<2.10.0,>=2.9.0rc0 in /usr/local/lib/python3.7/dist-packages (from tensorflow) (2.9.0)\n",
            "Requirement already satisfied: keras<2.10.0,>=2.9.0rc0 in /usr/local/lib/python3.7/dist-packages (from tensorflow) (2.9.0)\n",
            "Requirement already satisfied: libclang>=13.0.0 in /usr/local/lib/python3.7/dist-packages (from tensorflow) (14.0.6)\n",
            "Requirement already satisfied: termcolor>=1.1.0 in /usr/local/lib/python3.7/dist-packages (from tensorflow) (2.1.0)\n",
            "Requirement already satisfied: flatbuffers<2,>=1.12 in /usr/local/lib/python3.7/dist-packages (from tensorflow) (1.12)\n",
            "Requirement already satisfied: setuptools in /usr/local/lib/python3.7/dist-packages (from tensorflow) (57.4.0)\n",
            "Requirement already satisfied: google-pasta>=0.1.1 in /usr/local/lib/python3.7/dist-packages (from tensorflow) (0.2.0)\n",
            "Requirement already satisfied: protobuf<3.20,>=3.9.2 in /usr/local/lib/python3.7/dist-packages (from tensorflow) (3.17.3)\n",
            "Requirement already satisfied: gast<=0.4.0,>=0.2.1 in /usr/local/lib/python3.7/dist-packages (from tensorflow) (0.4.0)\n",
            "Requirement already satisfied: packaging in /usr/local/lib/python3.7/dist-packages (from tensorflow) (21.3)\n",
            "Requirement already satisfied: tensorboard<2.10,>=2.9 in /usr/local/lib/python3.7/dist-packages (from tensorflow) (2.9.1)\n",
            "Requirement already satisfied: opt-einsum>=2.3.2 in /usr/local/lib/python3.7/dist-packages (from tensorflow) (3.3.0)\n",
            "Requirement already satisfied: six>=1.12.0 in /usr/local/lib/python3.7/dist-packages (from tensorflow) (1.15.0)\n",
            "Requirement already satisfied: h5py>=2.9.0 in /usr/local/lib/python3.7/dist-packages (from tensorflow) (3.1.0)\n",
            "Requirement already satisfied: grpcio<2.0,>=1.24.3 in /usr/local/lib/python3.7/dist-packages (from tensorflow) (1.50.0)\n",
            "Requirement already satisfied: wrapt>=1.11.0 in /usr/local/lib/python3.7/dist-packages (from tensorflow) (1.14.1)\n",
            "Requirement already satisfied: typing-extensions>=3.6.6 in /usr/local/lib/python3.7/dist-packages (from tensorflow) (4.1.1)\n",
            "Requirement already satisfied: astunparse>=1.6.0 in /usr/local/lib/python3.7/dist-packages (from tensorflow) (1.6.3)\n",
            "Requirement already satisfied: wheel<1.0,>=0.23.0 in /usr/local/lib/python3.7/dist-packages (from astunparse>=1.6.0->tensorflow) (0.38.1)\n",
            "Requirement already satisfied: cached-property in /usr/local/lib/python3.7/dist-packages (from h5py>=2.9.0->tensorflow) (1.5.2)\n",
            "Requirement already satisfied: markdown>=2.6.8 in /usr/local/lib/python3.7/dist-packages (from tensorboard<2.10,>=2.9->tensorflow) (3.4.1)\n",
            "Requirement already satisfied: werkzeug>=1.0.1 in /usr/local/lib/python3.7/dist-packages (from tensorboard<2.10,>=2.9->tensorflow) (1.0.1)\n",
            "Requirement already satisfied: google-auth-oauthlib<0.5,>=0.4.1 in /usr/local/lib/python3.7/dist-packages (from tensorboard<2.10,>=2.9->tensorflow) (0.4.6)\n",
            "Requirement already satisfied: tensorboard-data-server<0.7.0,>=0.6.0 in /usr/local/lib/python3.7/dist-packages (from tensorboard<2.10,>=2.9->tensorflow) (0.6.1)\n",
            "Requirement already satisfied: google-auth<3,>=1.6.3 in /usr/local/lib/python3.7/dist-packages (from tensorboard<2.10,>=2.9->tensorflow) (1.35.0)\n",
            "Requirement already satisfied: tensorboard-plugin-wit>=1.6.0 in /usr/local/lib/python3.7/dist-packages (from tensorboard<2.10,>=2.9->tensorflow) (1.8.1)\n",
            "Requirement already satisfied: requests<3,>=2.21.0 in /usr/local/lib/python3.7/dist-packages (from tensorboard<2.10,>=2.9->tensorflow) (2.23.0)\n",
            "Requirement already satisfied: pyasn1-modules>=0.2.1 in /usr/local/lib/python3.7/dist-packages (from google-auth<3,>=1.6.3->tensorboard<2.10,>=2.9->tensorflow) (0.2.8)\n",
            "Requirement already satisfied: rsa<5,>=3.1.4 in /usr/local/lib/python3.7/dist-packages (from google-auth<3,>=1.6.3->tensorboard<2.10,>=2.9->tensorflow) (4.9)\n",
            "Requirement already satisfied: cachetools<5.0,>=2.0.0 in /usr/local/lib/python3.7/dist-packages (from google-auth<3,>=1.6.3->tensorboard<2.10,>=2.9->tensorflow) (4.2.4)\n",
            "Requirement already satisfied: requests-oauthlib>=0.7.0 in /usr/local/lib/python3.7/dist-packages (from google-auth-oauthlib<0.5,>=0.4.1->tensorboard<2.10,>=2.9->tensorflow) (1.3.1)\n",
            "Requirement already satisfied: importlib-metadata>=4.4 in /usr/local/lib/python3.7/dist-packages (from markdown>=2.6.8->tensorboard<2.10,>=2.9->tensorflow) (4.13.0)\n",
            "Requirement already satisfied: zipp>=0.5 in /usr/local/lib/python3.7/dist-packages (from importlib-metadata>=4.4->markdown>=2.6.8->tensorboard<2.10,>=2.9->tensorflow) (3.10.0)\n",
            "Requirement already satisfied: pyasn1<0.5.0,>=0.4.6 in /usr/local/lib/python3.7/dist-packages (from pyasn1-modules>=0.2.1->google-auth<3,>=1.6.3->tensorboard<2.10,>=2.9->tensorflow) (0.4.8)\n",
            "Requirement already satisfied: idna<3,>=2.5 in /usr/local/lib/python3.7/dist-packages (from requests<3,>=2.21.0->tensorboard<2.10,>=2.9->tensorflow) (2.10)\n",
            "Requirement already satisfied: urllib3!=1.25.0,!=1.25.1,<1.26,>=1.21.1 in /usr/local/lib/python3.7/dist-packages (from requests<3,>=2.21.0->tensorboard<2.10,>=2.9->tensorflow) (1.24.3)\n",
            "Requirement already satisfied: certifi>=2017.4.17 in /usr/local/lib/python3.7/dist-packages (from requests<3,>=2.21.0->tensorboard<2.10,>=2.9->tensorflow) (2022.9.24)\n",
            "Requirement already satisfied: chardet<4,>=3.0.2 in /usr/local/lib/python3.7/dist-packages (from requests<3,>=2.21.0->tensorboard<2.10,>=2.9->tensorflow) (3.0.4)\n",
            "Requirement already satisfied: oauthlib>=3.0.0 in /usr/local/lib/python3.7/dist-packages (from requests-oauthlib>=0.7.0->google-auth-oauthlib<0.5,>=0.4.1->tensorboard<2.10,>=2.9->tensorflow) (3.2.2)\n",
            "Requirement already satisfied: pyparsing!=3.0.5,>=2.0.2 in /usr/local/lib/python3.7/dist-packages (from packaging->tensorflow) (3.0.9)\n"
          ]
        }
      ],
      "source": [
        "!pip install seaborn\n",
        "!pip install matplotlib\n",
        "!pip install datetime\n",
        "!pip install pandas\n",
        "!pip install --upgrade pandas_datareader\n",
        "!pip install numpy\n",
        "!pip install os\n",
        "!pip install tensorflow \n",
        "\n",
        "import seaborn as sns\n",
        "import matplotlib.pyplot as plt\n",
        "import datetime as dt\n",
        "import pandas as pd\n",
        "import pandas_datareader as web # to read data from web\n",
        "import numpy as np\n",
        "import os\n",
        "import tensorflow as tf\n"
      ]
    },
    {
      "cell_type": "code",
      "source": [
        "# Proof of Concept\n",
        "# Import TX Instruments stock data using pandas_datareader from Yahoo Finance\n",
        "txn_data= web.DataReader('TXN',data_source=\"yahoo\",start='2014-01-01',end='2022-02-02')\n",
        "print(txn_data.head())\n",
        "print(txn_data.shape)"
      ],
      "metadata": {
        "colab": {
          "base_uri": "https://localhost:8080/"
        },
        "id": "KP_aOLU2gXhk",
        "outputId": "fcbe0279-ede8-4dc1-ecd7-6bd2d9cc9b88"
      },
      "execution_count": 2,
      "outputs": [
        {
          "output_type": "stream",
          "name": "stdout",
          "text": [
            "                 High        Low       Open      Close     Volume  Adj Close\n",
            "Date                                                                        \n",
            "2014-01-02  43.500000  42.880001  43.439999  43.099998  6959200.0  33.988426\n",
            "2014-01-03  43.459999  42.970001  43.119999  43.290001  4693300.0  34.138256\n",
            "2014-01-06  43.279999  42.849998  43.250000  42.930000  4446300.0  33.854362\n",
            "2014-01-07  43.110001  42.639999  42.980000  42.700001  5078900.0  33.672985\n",
            "2014-01-08  43.320000  42.619999  42.959999  43.290001  6353500.0  34.138256\n",
            "(2037, 6)\n"
          ]
        }
      ]
    },
    {
      "cell_type": "code",
      "source": [
        "# Plot the history of the companies closing price in $\n",
        "plt.figure(figsize=(15,7))\n",
        "sns.lineplot(x = txn_data.index, y = txn_data['Close'])\n",
        "plt.xlabel('Year', fontsize=18)\n",
        "plt.ylabel('Closing Price (USD)',fontsize=18)\n",
        "plt.show()"
      ],
      "metadata": {
        "colab": {
          "base_uri": "https://localhost:8080/",
          "height": 430
        },
        "id": "Ddzy1l4ohO6k",
        "outputId": "49d9cf2b-0ad1-407d-e19b-cd63cdec529c"
      },
      "execution_count": 4,
      "outputs": [
        {
          "output_type": "display_data",
          "data": {
            "text/plain": [
              "<Figure size 1080x504 with 1 Axes>"
            ],
            "image/png": "[encoded data removed]"
          },
          "metadata": {
            "needs_background": "light"
          }
        }
      ]
    },
    {
      "cell_type": "code",
      "source": [
        "# Split the dataset into a train and test set\n",
        "data_to_train = txn_data[:1750]\n",
        "data_to_test = txn_data[1750:]\n",
        "\n",
        "# Save the resulting data to csv files\n",
        "data_to_train.to_csv('train_data.csv')\n",
        "data_to_test.to_csv('test_data.csv')\n",
        "\n",
        "txn_data= txn_data.iloc[: , 3:4]\n",
        "print(txn_data.head())\n"
      ],
      "metadata": {
        "colab": {
          "base_uri": "https://localhost:8080/"
        },
        "id": "HkWVaL7U60hV",
        "outputId": "0b4688a6-2e6c-4a84-e1e8-08be34903990"
      },
      "execution_count": 26,
      "outputs": [
        {
          "output_type": "stream",
          "name": "stdout",
          "text": [
            "                Close\n",
            "Date                 \n",
            "2014-01-02  43.099998\n",
            "2014-01-03  43.290001\n",
            "2014-01-06  42.930000\n",
            "2014-01-07  42.700001\n",
            "2014-01-08  43.290001\n"
          ]
        }
      ]
    },
    {
      "cell_type": "code",
      "source": [
        "## Create NumPy array\n",
        "training_dataset= txn_data.iloc[:1750,:].values\n",
        "\n",
        "test_dataset= txn_data.iloc[1750:,:].values\n",
        "\n",
        "# Normalize our data\n",
        "from sklearn.preprocessing import MinMaxScaler\n",
        "sc= MinMaxScaler(feature_range=(0,1))\n",
        "scaled_training_dataset= sc.fit_transform(training_dataset)\n",
        "\n",
        "# Create data structure with 90 timesteps and 1 output\n",
        "x_train = [] # Independent variables\n",
        "y_train = [] # Dependent variables \n",
        "# I am going to append past 90 days data \n",
        "for i in range(90,1750):\n",
        "    x_train.append(scaled_training_dataset[i-90:i,0]) # Appending previous 90 days data not including 90\n",
        "    y_train.append(scaled_training_dataset[i,0])\n",
        "    \n",
        "x_train, y_train= np.array(x_train), np.array(y_train)\n",
        "\n",
        "x_train, y_train= np.array(x_train), np.array(y_train)\n",
        "print(x_train.shape, y_train.shape)  # Check the current shape \n",
        "\n",
        "# Using AI LSMT Model (Long Short-Term Memory)\n",
        "x_train= np.reshape(x_train,(x_train.shape[0],x_train.shape[1],1)) # Re shape to 3D as required by LSMT model\n",
        "x_train.shape\n"
      ],
      "metadata": {
        "colab": {
          "base_uri": "https://localhost:8080/"
        },
        "id": "Mib8IlCrhc16",
        "outputId": "89860100-e144-4bfa-d3af-90d97332a2a1"
      },
      "execution_count": 9,
      "outputs": [
        {
          "output_type": "stream",
          "name": "stdout",
          "text": [
            "(1660, 90) (1660,)\n"
          ]
        },
        {
          "output_type": "execute_result",
          "data": {
            "text/plain": [
              "(1660, 90, 1)"
            ]
          },
          "metadata": {},
          "execution_count": 9
        }
      ]
    },
    {
      "cell_type": "code",
      "source": [
        "# Use Tensorflow's Keras models/packages\n",
        "from keras.models import Sequential\n",
        "from keras.layers import Dense, Dropout, LSTM\n",
        "\n",
        "model = Sequential() # Init recurrent neural network\n",
        "\n",
        "# Adding first LSTM layer and some dropout Dropout regularisation\n",
        "model.add(LSTM(units=100,return_sequences=True, input_shape=(x_train.shape[1],1)))\n",
        "model.add(Dropout(rate=0.2))\n",
        "# '' '' second '' '' '' ''\n",
        "model.add(LSTM(units=100,return_sequences=True))\n",
        "model.add(Dropout(rate=0.2))\n",
        "# '' '' third '' '' '' ''\n",
        "model.add(LSTM(units=100,return_sequences=True))\n",
        "model.add(Dropout(rate=0.2))\n",
        "# '' '' fourth '' '' '' ''\n",
        "model.add(LSTM(units=100,return_sequences=True))\n",
        "model.add(Dropout(rate=0.2))\n",
        "# '' '' fifth '' '' '' ''\n",
        "model.add(LSTM(units=100))\n",
        "model.add(Dropout(rate=0.2))\n",
        "# Add output layer\n",
        "model.add(Dense(units=1))\n",
        "\n",
        "# Compile and show model (note we're using regression)\n",
        "model.compile(loss='mean_squared_error', optimizer='adam')\n",
        "\n",
        "model.summary()"
      ],
      "metadata": {
        "colab": {
          "base_uri": "https://localhost:8080/"
        },
        "id": "xuKU4FvAixoS",
        "outputId": "c559f3b9-9992-45c3-ef57-806690203047"
      },
      "execution_count": 13,
      "outputs": [
        {
          "output_type": "stream",
          "name": "stdout",
          "text": [
            "Model: \"sequential_3\"\n",
            "_________________________________________________________________\n",
            " Layer (type)                Output Shape              Param #   \n",
            "=================================================================\n",
            " lstm_5 (LSTM)               (None, 90, 100)           40800     \n",
            "                                                                 \n",
            " dropout_5 (Dropout)         (None, 90, 100)           0         \n",
            "                                                                 \n",
            " lstm_6 (LSTM)               (None, 90, 100)           80400     \n",
            "                                                                 \n",
            " dropout_6 (Dropout)         (None, 90, 100)           0         \n",
            "                                                                 \n",
            " lstm_7 (LSTM)               (None, 90, 100)           80400     \n",
            "                                                                 \n",
            " dropout_7 (Dropout)         (None, 90, 100)           0         \n",
            "                                                                 \n",
            " lstm_8 (LSTM)               (None, 90, 100)           80400     \n",
            "                                                                 \n",
            " dropout_8 (Dropout)         (None, 90, 100)           0         \n",
            "                                                                 \n",
            " lstm_9 (LSTM)               (None, 100)               80400     \n",
            "                                                                 \n",
            " dropout_9 (Dropout)         (None, 100)               0         \n",
            "                                                                 \n",
            " dense_1 (Dense)             (None, 1)                 101       \n",
            "                                                                 \n",
            "=================================================================\n",
            "Total params: 362,501\n",
            "Trainable params: 362,501\n",
            "Non-trainable params: 0\n",
            "_________________________________________________________________\n"
          ]
        }
      ]
    },
    {
      "cell_type": "markdown",
      "source": [
        "Note the LSMT model takes 3 arguments: #values, #time-steps, #1-dimensional output"
      ],
      "metadata": {
        "id": "UmzlEmyui4Kq"
      }
    },
    {
      "cell_type": "code",
      "source": [
        "# Fit our model into the training set\n",
        "history = model.fit(x_train,y_train,epochs=100,batch_size=32)"
      ],
      "metadata": {
        "colab": {
          "base_uri": "https://localhost:8080/"
        },
        "id": "oG6Ms6HBjurj",
        "outputId": "46055631-4854-41eb-edb0-4df5fee99a3b"
      },
      "execution_count": 15,
      "outputs": [
        {
          "output_type": "stream",
          "name": "stdout",
          "text": [
            "Epoch 1/100\n",
            "52/52 [==============================] - 35s 668ms/step - loss: 0.0016\n",
            "Epoch 2/100\n",
            "52/52 [==============================] - 20s 389ms/step - loss: 0.0016\n",
            "Epoch 3/100\n",
            "52/52 [==============================] - 23s 438ms/step - loss: 0.0015\n",
            "Epoch 4/100\n",
            "52/52 [==============================] - 20s 385ms/step - loss: 0.0016\n",
            "Epoch 5/100\n",
            "52/52 [==============================] - 22s 414ms/step - loss: 0.0018\n",
            "Epoch 6/100\n",
            "52/52 [==============================] - 23s 441ms/step - loss: 0.0016\n",
            "Epoch 7/100\n",
            "52/52 [==============================] - 20s 385ms/step - loss: 0.0014\n",
            "Epoch 8/100\n",
            "52/52 [==============================] - 21s 411ms/step - loss: 0.0014\n",
            "Epoch 9/100\n",
            "52/52 [==============================] - 20s 384ms/step - loss: 0.0013\n",
            "Epoch 10/100\n",
            "52/52 [==============================] - 20s 384ms/step - loss: 0.0014\n",
            "Epoch 11/100\n",
            "52/52 [==============================] - 21s 409ms/step - loss: 0.0013\n",
            "Epoch 12/100\n",
            "52/52 [==============================] - 20s 384ms/step - loss: 0.0013\n",
            "Epoch 13/100\n",
            "52/52 [==============================] - 21s 412ms/step - loss: 0.0015\n",
            "Epoch 14/100\n",
            "52/52 [==============================] - 21s 411ms/step - loss: 0.0012\n",
            "Epoch 15/100\n",
            "52/52 [==============================] - 20s 386ms/step - loss: 0.0011\n",
            "Epoch 16/100\n",
            "52/52 [==============================] - 21s 414ms/step - loss: 0.0012\n",
            "Epoch 17/100\n",
            "52/52 [==============================] - 20s 388ms/step - loss: 0.0012\n",
            "Epoch 18/100\n",
            "52/52 [==============================] - 20s 388ms/step - loss: 0.0012\n",
            "Epoch 19/100\n",
            "52/52 [==============================] - 21s 412ms/step - loss: 0.0012\n",
            "Epoch 20/100\n",
            "52/52 [==============================] - 20s 385ms/step - loss: 0.0011\n",
            "Epoch 21/100\n",
            "52/52 [==============================] - 21s 413ms/step - loss: 0.0011\n",
            "Epoch 22/100\n",
            "52/52 [==============================] - 20s 388ms/step - loss: 0.0011\n",
            "Epoch 23/100\n",
            "52/52 [==============================] - 20s 388ms/step - loss: 0.0013\n",
            "Epoch 24/100\n",
            "52/52 [==============================] - 23s 439ms/step - loss: 0.0013\n",
            "Epoch 25/100\n",
            "52/52 [==============================] - 20s 387ms/step - loss: 0.0012\n",
            "Epoch 26/100\n",
            "52/52 [==============================] - 20s 392ms/step - loss: 0.0012\n",
            "Epoch 27/100\n",
            "52/52 [==============================] - 21s 404ms/step - loss: 0.0010\n",
            "Epoch 28/100\n",
            "52/52 [==============================] - 20s 390ms/step - loss: 9.1313e-04\n",
            "Epoch 29/100\n",
            "52/52 [==============================] - 21s 412ms/step - loss: 0.0011\n",
            "Epoch 30/100\n",
            "52/52 [==============================] - 20s 380ms/step - loss: 0.0011\n",
            "Epoch 31/100\n",
            "52/52 [==============================] - 20s 382ms/step - loss: 0.0010\n",
            "Epoch 32/100\n",
            "52/52 [==============================] - 21s 407ms/step - loss: 0.0011\n",
            "Epoch 33/100\n",
            "52/52 [==============================] - 20s 379ms/step - loss: 0.0012\n",
            "Epoch 34/100\n",
            "52/52 [==============================] - 20s 379ms/step - loss: 9.1820e-04\n",
            "Epoch 35/100\n",
            "52/52 [==============================] - 22s 415ms/step - loss: 0.0011\n",
            "Epoch 36/100\n",
            "52/52 [==============================] - 20s 377ms/step - loss: 9.2749e-04\n",
            "Epoch 37/100\n",
            "52/52 [==============================] - 21s 396ms/step - loss: 9.3378e-04\n",
            "Epoch 38/100\n",
            "52/52 [==============================] - 20s 380ms/step - loss: 8.6455e-04\n",
            "Epoch 39/100\n",
            "52/52 [==============================] - 20s 376ms/step - loss: 8.7869e-04\n",
            "Epoch 40/100\n",
            "52/52 [==============================] - 21s 399ms/step - loss: 0.0010\n",
            "Epoch 41/100\n",
            "52/52 [==============================] - 20s 382ms/step - loss: 8.7246e-04\n",
            "Epoch 42/100\n",
            "52/52 [==============================] - 20s 389ms/step - loss: 0.0011\n",
            "Epoch 43/100\n",
            "52/52 [==============================] - 21s 408ms/step - loss: 9.9141e-04\n",
            "Epoch 44/100\n",
            "52/52 [==============================] - 20s 393ms/step - loss: 8.4721e-04\n",
            "Epoch 45/100\n",
            "52/52 [==============================] - 20s 392ms/step - loss: 0.0010\n",
            "Epoch 46/100\n",
            "52/52 [==============================] - 22s 428ms/step - loss: 8.8240e-04\n",
            "Epoch 47/100\n",
            "52/52 [==============================] - 20s 391ms/step - loss: 8.4601e-04\n",
            "Epoch 48/100\n",
            "52/52 [==============================] - 21s 406ms/step - loss: 7.2431e-04\n",
            "Epoch 49/100\n",
            "52/52 [==============================] - 20s 392ms/step - loss: 8.3362e-04\n",
            "Epoch 50/100\n",
            "52/52 [==============================] - 20s 390ms/step - loss: 0.0010\n",
            "Epoch 51/100\n",
            "52/52 [==============================] - 21s 409ms/step - loss: 8.8027e-04\n",
            "Epoch 52/100\n",
            "52/52 [==============================] - 20s 391ms/step - loss: 8.6281e-04\n",
            "Epoch 53/100\n",
            "52/52 [==============================] - 20s 390ms/step - loss: 8.4670e-04\n",
            "Epoch 54/100\n",
            "52/52 [==============================] - 21s 408ms/step - loss: 8.7884e-04\n",
            "Epoch 55/100\n",
            "52/52 [==============================] - 20s 389ms/step - loss: 7.7158e-04\n",
            "Epoch 56/100\n",
            "52/52 [==============================] - 21s 407ms/step - loss: 0.0010\n",
            "Epoch 57/100\n",
            "52/52 [==============================] - 21s 409ms/step - loss: 8.1967e-04\n",
            "Epoch 58/100\n",
            "52/52 [==============================] - 20s 390ms/step - loss: 7.9980e-04\n",
            "Epoch 59/100\n",
            "52/52 [==============================] - 21s 410ms/step - loss: 8.0136e-04\n",
            "Epoch 60/100\n",
            "52/52 [==============================] - 20s 392ms/step - loss: 9.6992e-04\n",
            "Epoch 61/100\n",
            "52/52 [==============================] - 20s 390ms/step - loss: 9.9831e-04\n",
            "Epoch 62/100\n",
            "52/52 [==============================] - 21s 405ms/step - loss: 8.4014e-04\n",
            "Epoch 63/100\n",
            "52/52 [==============================] - 20s 392ms/step - loss: 8.0348e-04\n",
            "Epoch 64/100\n",
            "52/52 [==============================] - 21s 410ms/step - loss: 7.3222e-04\n",
            "Epoch 65/100\n",
            "52/52 [==============================] - 20s 392ms/step - loss: 7.7984e-04\n",
            "Epoch 66/100\n",
            "52/52 [==============================] - 20s 391ms/step - loss: 6.8864e-04\n",
            "Epoch 67/100\n",
            "52/52 [==============================] - 22s 427ms/step - loss: 8.4476e-04\n",
            "Epoch 68/100\n",
            "52/52 [==============================] - 20s 388ms/step - loss: 7.7688e-04\n",
            "Epoch 69/100\n",
            "52/52 [==============================] - 21s 411ms/step - loss: 8.0953e-04\n",
            "Epoch 70/100\n",
            "52/52 [==============================] - 21s 396ms/step - loss: 7.3889e-04\n",
            "Epoch 71/100\n",
            "52/52 [==============================] - 20s 392ms/step - loss: 7.5459e-04\n",
            "Epoch 72/100\n",
            "52/52 [==============================] - 22s 414ms/step - loss: 6.8088e-04\n",
            "Epoch 73/100\n",
            "52/52 [==============================] - 20s 393ms/step - loss: 8.0001e-04\n",
            "Epoch 74/100\n",
            "52/52 [==============================] - 20s 393ms/step - loss: 8.0451e-04\n",
            "Epoch 75/100\n",
            "52/52 [==============================] - 22s 417ms/step - loss: 6.8257e-04\n",
            "Epoch 76/100\n",
            "52/52 [==============================] - 20s 394ms/step - loss: 6.8091e-04\n",
            "Epoch 77/100\n",
            "52/52 [==============================] - 22s 416ms/step - loss: 8.1026e-04\n",
            "Epoch 78/100\n",
            "52/52 [==============================] - 21s 396ms/step - loss: 7.2247e-04\n",
            "Epoch 79/100\n",
            "52/52 [==============================] - 21s 395ms/step - loss: 7.0308e-04\n",
            "Epoch 80/100\n",
            "52/52 [==============================] - 22s 415ms/step - loss: 6.4602e-04\n",
            "Epoch 81/100\n",
            "52/52 [==============================] - 20s 392ms/step - loss: 7.9537e-04\n",
            "Epoch 82/100\n",
            "52/52 [==============================] - 20s 392ms/step - loss: 8.2694e-04\n",
            "Epoch 83/100\n",
            "52/52 [==============================] - 21s 407ms/step - loss: 7.1736e-04\n",
            "Epoch 84/100\n",
            "52/52 [==============================] - 20s 390ms/step - loss: 7.3704e-04\n",
            "Epoch 85/100\n",
            "52/52 [==============================] - 21s 408ms/step - loss: 7.8398e-04\n",
            "Epoch 86/100\n",
            "52/52 [==============================] - 20s 393ms/step - loss: 7.0696e-04\n",
            "Epoch 87/100\n",
            "52/52 [==============================] - 20s 393ms/step - loss: 7.4775e-04\n",
            "Epoch 88/100\n",
            "52/52 [==============================] - 22s 432ms/step - loss: 7.2474e-04\n",
            "Epoch 89/100\n",
            "52/52 [==============================] - 21s 396ms/step - loss: 6.4911e-04\n",
            "Epoch 90/100\n",
            "52/52 [==============================] - 22s 422ms/step - loss: 6.6765e-04\n",
            "Epoch 91/100\n",
            "52/52 [==============================] - 21s 399ms/step - loss: 6.8278e-04\n",
            "Epoch 92/100\n",
            "52/52 [==============================] - 20s 394ms/step - loss: 7.9336e-04\n",
            "Epoch 93/100\n",
            "52/52 [==============================] - 22s 417ms/step - loss: 9.0718e-04\n",
            "Epoch 94/100\n",
            "52/52 [==============================] - 20s 389ms/step - loss: 6.4387e-04\n",
            "Epoch 95/100\n",
            "52/52 [==============================] - 20s 388ms/step - loss: 6.2945e-04\n",
            "Epoch 96/100\n",
            "52/52 [==============================] - 21s 408ms/step - loss: 7.0957e-04\n",
            "Epoch 97/100\n",
            "52/52 [==============================] - 20s 390ms/step - loss: 6.4890e-04\n",
            "Epoch 98/100\n",
            "52/52 [==============================] - 22s 425ms/step - loss: 6.3346e-04\n",
            "Epoch 99/100\n",
            "52/52 [==============================] - 20s 393ms/step - loss: 6.0436e-04\n",
            "Epoch 100/100\n",
            "52/52 [==============================] - 20s 390ms/step - loss: 6.5983e-04\n"
          ]
        }
      ]
    },
    {
      "cell_type": "code",
      "source": [
        "plt.figure(figsize = (16, 5))\n",
        "plt.plot(history.history['loss'])\n",
        "plt.xlabel('Epoch')\n",
        "plt.ylabel('Loss')\n",
        "plt.show()"
      ],
      "metadata": {
        "colab": {
          "base_uri": "https://localhost:8080/",
          "height": 299
        },
        "id": "efIhnsWj5rAU",
        "outputId": "326af297-965f-4054-9faf-b243f96babba"
      },
      "execution_count": 24,
      "outputs": [
        {
          "output_type": "display_data",
          "data": {
            "text/plain": [
              "<Figure size 1152x360 with 1 Axes>"
            ],
            "image/png": "[encoded data removed]"
          },
          "metadata": {
            "needs_background": "light"
          }
        }
      ]
    },
    {
      "cell_type": "code",
      "source": [
        "training_dataset = pd.read_csv('train_data.csv')\n",
        "test_dataset = pd.read_csv('test_data.csv')\n",
        "\n",
        "real_txn_price = test_dataset.iloc[:, 3:4].values\n",
        "real_txn_price.shape"
      ],
      "metadata": {
        "colab": {
          "base_uri": "https://localhost:8080/"
        },
        "id": "A_f3DXVBj_MU",
        "outputId": "e92b5f96-7a95-433a-db69-bb4d49e1d212"
      },
      "execution_count": 28,
      "outputs": [
        {
          "output_type": "execute_result",
          "data": {
            "text/plain": [
              "(287, 1)"
            ]
          },
          "metadata": {},
          "execution_count": 28
        }
      ]
    },
    {
      "cell_type": "code",
      "source": [
        "\n",
        "# Use panda's concatenate and scale\n",
        "data_total= pd.concat([training_dataset['Close'], test_dataset['Close']],  axis=0)\n",
        "inputs= data_total[len(data_total)-len(test_dataset)-90:].values \n",
        "inputs = inputs.reshape(-1,1) \n",
        "\n",
        "scaler = MinMaxScaler()\n",
        "\n",
        "#inputs = sc.transform(inputs)\n",
        "\n",
        "X_test = []\n",
        "for i in range(90, 230):\n",
        "    X_test.append(inputs[i-90:i, 0])\n",
        "\n",
        "X_test = np.array(X_test)\n",
        "# 3D format\n",
        "X_test = np.reshape(X_test, (X_test.shape[0], X_test.shape[1], 1))"
      ],
      "metadata": {
        "id": "-o_SSrmk7Grn"
      },
      "execution_count": 50,
      "outputs": []
    },
    {
      "cell_type": "code",
      "source": [
        "inputs.shape"
      ],
      "metadata": {
        "colab": {
          "base_uri": "https://localhost:8080/"
        },
        "id": "dQ4sGEZc8VU6",
        "outputId": "9fa0eb41-8fdf-4598-84a3-42118ce55418"
      },
      "execution_count": 35,
      "outputs": [
        {
          "output_type": "execute_result",
          "data": {
            "text/plain": [
              "(377, 1)"
            ]
          },
          "metadata": {},
          "execution_count": 35
        }
      ]
    },
    {
      "cell_type": "code",
      "source": [
        "data_total.shape"
      ],
      "metadata": {
        "colab": {
          "base_uri": "https://localhost:8080/"
        },
        "id": "ogOTGsmF8YXe",
        "outputId": "45e3274b-08a1-4efc-fe1d-6f0ea8b5e8ff"
      },
      "execution_count": 36,
      "outputs": [
        {
          "output_type": "execute_result",
          "data": {
            "text/plain": [
              "(2037,)"
            ]
          },
          "metadata": {},
          "execution_count": 36
        }
      ]
    },
    {
      "cell_type": "code",
      "source": [
        "X_test.shape"
      ],
      "metadata": {
        "colab": {
          "base_uri": "https://localhost:8080/"
        },
        "id": "OKtmQbmU8bFG",
        "outputId": "775bea30-9fd6-4e30-e780-fee9fc2c3479"
      },
      "execution_count": 37,
      "outputs": [
        {
          "output_type": "execute_result",
          "data": {
            "text/plain": [
              "(170, 60, 1)"
            ]
          },
          "metadata": {},
          "execution_count": 37
        }
      ]
    },
    {
      "cell_type": "code",
      "source": [
        "# Predict using our model\n",
        "predicted_txn_price = model.predict(X_test)\n",
        "\n",
        "# Inverse the scaling\n",
        "predicted_txn_price = sc.inverse_transform(predicted_txn_price)\n",
        "\n",
        "# Plot result\n",
        "plt.figure(17,10)\n",
        "plt.plot(real_txn_price, color = 'Blue', label = 'Real TX Instruments Stock Price')\n",
        "plt.plot(predicted_txn_price, color = 'Red', label = 'Predicted TXN Stock Price')\n",
        "plt.title('TXN Stock Price Prediction', fontsize = 16)\n",
        "plt.xlabel('Time', fontsize = 16)\n",
        "plt.ylabel('TXN Stock Price', fontsize = 17)\n",
        "plt.legend()\n",
        "plt.show()"
      ],
      "metadata": {
        "colab": {
          "base_uri": "https://localhost:8080/",
          "height": 374
        },
        "id": "VbEElYI48dRH",
        "outputId": "80097f92-017d-4a43-d9f7-d7286b4a8c8f"
      },
      "execution_count": 51,
      "outputs": [
        {
          "output_type": "stream",
          "name": "stdout",
          "text": [
            "5/5 [==============================] - 1s 107ms/step\n"
          ]
        },
        {
          "output_type": "error",
          "ename": "ValueError",
          "evalue": "ignored",
          "traceback": [
            "\u001b[0;31m---------------------------------------------------------------------------\u001b[0m",
            "\u001b[0;31mValueError\u001b[0m                                Traceback (most recent call last)",
            "\u001b[0;32m<ipython-input-51-afbd70eea986>\u001b[0m in \u001b[0;36m<module>\u001b[0;34m\u001b[0m\n\u001b[1;32m      3\u001b[0m \u001b[0;34m\u001b[0m\u001b[0m\n\u001b[1;32m      4\u001b[0m \u001b[0;31m# Inverse the scaling\u001b[0m\u001b[0;34m\u001b[0m\u001b[0;34m\u001b[0m\u001b[0;34m\u001b[0m\u001b[0m\n\u001b[0;32m----> 5\u001b[0;31m \u001b[0mpredicted_txn_price\u001b[0m \u001b[0;34m=\u001b[0m \u001b[0msc\u001b[0m\u001b[0;34m.\u001b[0m\u001b[0minverse_transform\u001b[0m\u001b[0;34m(\u001b[0m\u001b[0mpredicted_txn_price\u001b[0m\u001b[0;34m)\u001b[0m\u001b[0;34m\u001b[0m\u001b[0;34m\u001b[0m\u001b[0m\n\u001b[0m\u001b[1;32m      6\u001b[0m \u001b[0;34m\u001b[0m\u001b[0m\n\u001b[1;32m      7\u001b[0m \u001b[0;31m# Plot result\u001b[0m\u001b[0;34m\u001b[0m\u001b[0;34m\u001b[0m\u001b[0;34m\u001b[0m\u001b[0m\n",
            "\u001b[0;32m/usr/local/lib/python3.7/dist-packages/sklearn/preprocessing/_data.py\u001b[0m in \u001b[0;36minverse_transform\u001b[0;34m(self, X)\u001b[0m\n\u001b[1;32m    527\u001b[0m         )\n\u001b[1;32m    528\u001b[0m \u001b[0;34m\u001b[0m\u001b[0m\n\u001b[0;32m--> 529\u001b[0;31m         \u001b[0mX\u001b[0m \u001b[0;34m-=\u001b[0m \u001b[0mself\u001b[0m\u001b[0;34m.\u001b[0m\u001b[0mmin_\u001b[0m\u001b[0;34m\u001b[0m\u001b[0;34m\u001b[0m\u001b[0m\n\u001b[0m\u001b[1;32m    530\u001b[0m         \u001b[0mX\u001b[0m \u001b[0;34m/=\u001b[0m \u001b[0mself\u001b[0m\u001b[0;34m.\u001b[0m\u001b[0mscale_\u001b[0m\u001b[0;34m\u001b[0m\u001b[0;34m\u001b[0m\u001b[0m\n\u001b[1;32m    531\u001b[0m         \u001b[0;32mreturn\u001b[0m \u001b[0mX\u001b[0m\u001b[0;34m\u001b[0m\u001b[0;34m\u001b[0m\u001b[0m\n",
            "\u001b[0;31mValueError\u001b[0m: non-broadcastable output operand with shape (140,1) doesn't match the broadcast shape (140,6)"
          ]
        }
      ]
    },
    {
      "cell_type": "markdown",
      "source": [
        "NOTE: I've messed something up with my shaping of the NumPy arrays so my final prediction model isn't showing yet. Planning on re-working the model later today. It's supposed to be showing the real stock price for TXN and also have the predicted price so you can observe the differences."
      ],
      "metadata": {
        "id": "hiAKdsChAD7I"
      }
    }
  ]
}