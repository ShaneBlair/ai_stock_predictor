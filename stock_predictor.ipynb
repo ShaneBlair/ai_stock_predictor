{
  "nbformat": 4,
  "nbformat_minor": 0,
  "metadata": {
    "colab": {
      "provenance": [],
      "collapsed_sections": []
    },
    "kernelspec": {
      "name": "python3",
      "display_name": "Python 3"
    },
    "language_info": {
      "name": "python"
    }
  },
  "cells": [
    {
      "cell_type": "code",
      "execution_count": null,
      "metadata": {
        "colab": {
          "base_uri": "https://localhost:8080/"
        },
        "id": "1v4UVWebfrzA",
        "outputId": "c414477f-6d01-4ee9-bbb8-7d73fd9efeb5"
      },
      "outputs": [
        {
          "output_type": "stream",
          "name": "stdout",
          "text": [
            "Looking in indexes: https://pypi.org/simple, https://us-python.pkg.dev/colab-wheels/public/simple/\n",
            "Requirement already satisfied: seaborn in /usr/local/lib/python3.7/dist-packages (0.11.2)\n",
            "Requirement already satisfied: scipy>=1.0 in /usr/local/lib/python3.7/dist-packages (from seaborn) (1.7.3)\n",
            "Requirement already satisfied: matplotlib>=2.2 in /usr/local/lib/python3.7/dist-packages (from seaborn) (3.2.2)\n",
            "Requirement already satisfied: pandas>=0.23 in /usr/local/lib/python3.7/dist-packages (from seaborn) (1.3.5)\n",
            "Requirement already satisfied: numpy>=1.15 in /usr/local/lib/python3.7/dist-packages (from seaborn) (1.21.6)\n",
            "Requirement already satisfied: pyparsing!=2.0.4,!=2.1.2,!=2.1.6,>=2.0.1 in /usr/local/lib/python3.7/dist-packages (from matplotlib>=2.2->seaborn) (3.0.9)\n",
            "Requirement already satisfied: cycler>=0.10 in /usr/local/lib/python3.7/dist-packages (from matplotlib>=2.2->seaborn) (0.11.0)\n",
            "Requirement already satisfied: python-dateutil>=2.1 in /usr/local/lib/python3.7/dist-packages (from matplotlib>=2.2->seaborn) (2.8.2)\n",
            "Requirement already satisfied: kiwisolver>=1.0.1 in /usr/local/lib/python3.7/dist-packages (from matplotlib>=2.2->seaborn) (1.4.4)\n",
            "Requirement already satisfied: typing-extensions in /usr/local/lib/python3.7/dist-packages (from kiwisolver>=1.0.1->matplotlib>=2.2->seaborn) (4.1.1)\n",
            "Requirement already satisfied: pytz>=2017.3 in /usr/local/lib/python3.7/dist-packages (from pandas>=0.23->seaborn) (2022.6)\n",
            "Requirement already satisfied: six>=1.5 in /usr/local/lib/python3.7/dist-packages (from python-dateutil>=2.1->matplotlib>=2.2->seaborn) (1.15.0)\n",
            "Looking in indexes: https://pypi.org/simple, https://us-python.pkg.dev/colab-wheels/public/simple/\n",
            "Requirement already satisfied: matplotlib in /usr/local/lib/python3.7/dist-packages (3.2.2)\n",
            "Requirement already satisfied: numpy>=1.11 in /usr/local/lib/python3.7/dist-packages (from matplotlib) (1.21.6)\n",
            "Requirement already satisfied: python-dateutil>=2.1 in /usr/local/lib/python3.7/dist-packages (from matplotlib) (2.8.2)\n",
            "Requirement already satisfied: cycler>=0.10 in /usr/local/lib/python3.7/dist-packages (from matplotlib) (0.11.0)\n",
            "Requirement already satisfied: pyparsing!=2.0.4,!=2.1.2,!=2.1.6,>=2.0.1 in /usr/local/lib/python3.7/dist-packages (from matplotlib) (3.0.9)\n",
            "Requirement already satisfied: kiwisolver>=1.0.1 in /usr/local/lib/python3.7/dist-packages (from matplotlib) (1.4.4)\n",
            "Requirement already satisfied: typing-extensions in /usr/local/lib/python3.7/dist-packages (from kiwisolver>=1.0.1->matplotlib) (4.1.1)\n",
            "Requirement already satisfied: six>=1.5 in /usr/local/lib/python3.7/dist-packages (from python-dateutil>=2.1->matplotlib) (1.15.0)\n",
            "Looking in indexes: https://pypi.org/simple, https://us-python.pkg.dev/colab-wheels/public/simple/\n",
            "Collecting datetime\n",
            "  Downloading DateTime-4.7-py2.py3-none-any.whl (52 kB)\n",
            "\u001b[K     |████████████████████████████████| 52 kB 777 kB/s \n",
            "\u001b[?25hCollecting zope.interface\n",
            "  Downloading zope.interface-5.5.1-cp37-cp37m-manylinux_2_5_x86_64.manylinux1_x86_64.manylinux_2_12_x86_64.manylinux2010_x86_64.whl (254 kB)\n",
            "\u001b[K     |████████████████████████████████| 254 kB 14.7 MB/s \n",
            "\u001b[?25hRequirement already satisfied: pytz in /usr/local/lib/python3.7/dist-packages (from datetime) (2022.6)\n",
            "Requirement already satisfied: setuptools in /usr/local/lib/python3.7/dist-packages (from zope.interface->datetime) (57.4.0)\n",
            "Installing collected packages: zope.interface, datetime\n",
            "Successfully installed datetime-4.7 zope.interface-5.5.1\n",
            "Looking in indexes: https://pypi.org/simple, https://us-python.pkg.dev/colab-wheels/public/simple/\n",
            "Requirement already satisfied: pandas in /usr/local/lib/python3.7/dist-packages (1.3.5)\n",
            "Requirement already satisfied: python-dateutil>=2.7.3 in /usr/local/lib/python3.7/dist-packages (from pandas) (2.8.2)\n",
            "Requirement already satisfied: pytz>=2017.3 in /usr/local/lib/python3.7/dist-packages (from pandas) (2022.6)\n",
            "Requirement already satisfied: numpy>=1.17.3 in /usr/local/lib/python3.7/dist-packages (from pandas) (1.21.6)\n",
            "Requirement already satisfied: six>=1.5 in /usr/local/lib/python3.7/dist-packages (from python-dateutil>=2.7.3->pandas) (1.15.0)\n",
            "Looking in indexes: https://pypi.org/simple, https://us-python.pkg.dev/colab-wheels/public/simple/\n",
            "Requirement already satisfied: pandas_datareader in /usr/local/lib/python3.7/dist-packages (0.9.0)\n",
            "Collecting pandas_datareader\n",
            "  Downloading pandas_datareader-0.10.0-py3-none-any.whl (109 kB)\n",
            "\u001b[K     |████████████████████████████████| 109 kB 6.7 MB/s \n",
            "\u001b[?25hRequirement already satisfied: pandas>=0.23 in /usr/local/lib/python3.7/dist-packages (from pandas_datareader) (1.3.5)\n",
            "Requirement already satisfied: requests>=2.19.0 in /usr/local/lib/python3.7/dist-packages (from pandas_datareader) (2.23.0)\n",
            "Requirement already satisfied: lxml in /usr/local/lib/python3.7/dist-packages (from pandas_datareader) (4.9.1)\n",
            "Requirement already satisfied: pytz>=2017.3 in /usr/local/lib/python3.7/dist-packages (from pandas>=0.23->pandas_datareader) (2022.6)\n",
            "Requirement already satisfied: python-dateutil>=2.7.3 in /usr/local/lib/python3.7/dist-packages (from pandas>=0.23->pandas_datareader) (2.8.2)\n",
            "Requirement already satisfied: numpy>=1.17.3 in /usr/local/lib/python3.7/dist-packages (from pandas>=0.23->pandas_datareader) (1.21.6)\n",
            "Requirement already satisfied: six>=1.5 in /usr/local/lib/python3.7/dist-packages (from python-dateutil>=2.7.3->pandas>=0.23->pandas_datareader) (1.15.0)\n",
            "Requirement already satisfied: chardet<4,>=3.0.2 in /usr/local/lib/python3.7/dist-packages (from requests>=2.19.0->pandas_datareader) (3.0.4)\n",
            "Requirement already satisfied: certifi>=2017.4.17 in /usr/local/lib/python3.7/dist-packages (from requests>=2.19.0->pandas_datareader) (2022.9.24)\n",
            "Requirement already satisfied: urllib3!=1.25.0,!=1.25.1,<1.26,>=1.21.1 in /usr/local/lib/python3.7/dist-packages (from requests>=2.19.0->pandas_datareader) (1.24.3)\n",
            "Requirement already satisfied: idna<3,>=2.5 in /usr/local/lib/python3.7/dist-packages (from requests>=2.19.0->pandas_datareader) (2.10)\n",
            "Installing collected packages: pandas-datareader\n",
            "  Attempting uninstall: pandas-datareader\n",
            "    Found existing installation: pandas-datareader 0.9.0\n",
            "    Uninstalling pandas-datareader-0.9.0:\n",
            "      Successfully uninstalled pandas-datareader-0.9.0\n",
            "Successfully installed pandas-datareader-0.10.0\n",
            "Looking in indexes: https://pypi.org/simple, https://us-python.pkg.dev/colab-wheels/public/simple/\n",
            "Requirement already satisfied: numpy in /usr/local/lib/python3.7/dist-packages (1.21.6)\n",
            "Looking in indexes: https://pypi.org/simple, https://us-python.pkg.dev/colab-wheels/public/simple/\n",
            "\u001b[31mERROR: Could not find a version that satisfies the requirement os (from versions: none)\u001b[0m\n",
            "\u001b[31mERROR: No matching distribution found for os\u001b[0m\n",
            "Looking in indexes: https://pypi.org/simple, https://us-python.pkg.dev/colab-wheels/public/simple/\n",
            "Requirement already satisfied: tensorflow in /usr/local/lib/python3.7/dist-packages (2.9.2)\n",
            "Requirement already satisfied: protobuf<3.20,>=3.9.2 in /usr/local/lib/python3.7/dist-packages (from tensorflow) (3.17.3)\n",
            "Requirement already satisfied: typing-extensions>=3.6.6 in /usr/local/lib/python3.7/dist-packages (from tensorflow) (4.1.1)\n",
            "Requirement already satisfied: opt-einsum>=2.3.2 in /usr/local/lib/python3.7/dist-packages (from tensorflow) (3.3.0)\n",
            "Requirement already satisfied: keras<2.10.0,>=2.9.0rc0 in /usr/local/lib/python3.7/dist-packages (from tensorflow) (2.9.0)\n",
            "Requirement already satisfied: wrapt>=1.11.0 in /usr/local/lib/python3.7/dist-packages (from tensorflow) (1.14.1)\n",
            "Requirement already satisfied: absl-py>=1.0.0 in /usr/local/lib/python3.7/dist-packages (from tensorflow) (1.3.0)\n",
            "Requirement already satisfied: packaging in /usr/local/lib/python3.7/dist-packages (from tensorflow) (21.3)\n",
            "Requirement already satisfied: six>=1.12.0 in /usr/local/lib/python3.7/dist-packages (from tensorflow) (1.15.0)\n",
            "Requirement already satisfied: h5py>=2.9.0 in /usr/local/lib/python3.7/dist-packages (from tensorflow) (3.1.0)\n",
            "Requirement already satisfied: keras-preprocessing>=1.1.1 in /usr/local/lib/python3.7/dist-packages (from tensorflow) (1.1.2)\n",
            "Requirement already satisfied: libclang>=13.0.0 in /usr/local/lib/python3.7/dist-packages (from tensorflow) (14.0.6)\n",
            "Requirement already satisfied: setuptools in /usr/local/lib/python3.7/dist-packages (from tensorflow) (57.4.0)\n",
            "Requirement already satisfied: astunparse>=1.6.0 in /usr/local/lib/python3.7/dist-packages (from tensorflow) (1.6.3)\n",
            "Requirement already satisfied: google-pasta>=0.1.1 in /usr/local/lib/python3.7/dist-packages (from tensorflow) (0.2.0)\n",
            "Requirement already satisfied: numpy>=1.20 in /usr/local/lib/python3.7/dist-packages (from tensorflow) (1.21.6)\n",
            "Requirement already satisfied: tensorflow-estimator<2.10.0,>=2.9.0rc0 in /usr/local/lib/python3.7/dist-packages (from tensorflow) (2.9.0)\n",
            "Requirement already satisfied: termcolor>=1.1.0 in /usr/local/lib/python3.7/dist-packages (from tensorflow) (2.1.0)\n",
            "Requirement already satisfied: tensorflow-io-gcs-filesystem>=0.23.1 in /usr/local/lib/python3.7/dist-packages (from tensorflow) (0.27.0)\n",
            "Requirement already satisfied: grpcio<2.0,>=1.24.3 in /usr/local/lib/python3.7/dist-packages (from tensorflow) (1.50.0)\n",
            "Requirement already satisfied: gast<=0.4.0,>=0.2.1 in /usr/local/lib/python3.7/dist-packages (from tensorflow) (0.4.0)\n",
            "Requirement already satisfied: tensorboard<2.10,>=2.9 in /usr/local/lib/python3.7/dist-packages (from tensorflow) (2.9.1)\n",
            "Requirement already satisfied: flatbuffers<2,>=1.12 in /usr/local/lib/python3.7/dist-packages (from tensorflow) (1.12)\n",
            "Requirement already satisfied: wheel<1.0,>=0.23.0 in /usr/local/lib/python3.7/dist-packages (from astunparse>=1.6.0->tensorflow) (0.38.1)\n",
            "Requirement already satisfied: cached-property in /usr/local/lib/python3.7/dist-packages (from h5py>=2.9.0->tensorflow) (1.5.2)\n",
            "Requirement already satisfied: tensorboard-data-server<0.7.0,>=0.6.0 in /usr/local/lib/python3.7/dist-packages (from tensorboard<2.10,>=2.9->tensorflow) (0.6.1)\n",
            "Requirement already satisfied: google-auth-oauthlib<0.5,>=0.4.1 in /usr/local/lib/python3.7/dist-packages (from tensorboard<2.10,>=2.9->tensorflow) (0.4.6)\n",
            "Requirement already satisfied: requests<3,>=2.21.0 in /usr/local/lib/python3.7/dist-packages (from tensorboard<2.10,>=2.9->tensorflow) (2.23.0)\n",
            "Requirement already satisfied: tensorboard-plugin-wit>=1.6.0 in /usr/local/lib/python3.7/dist-packages (from tensorboard<2.10,>=2.9->tensorflow) (1.8.1)\n",
            "Requirement already satisfied: werkzeug>=1.0.1 in /usr/local/lib/python3.7/dist-packages (from tensorboard<2.10,>=2.9->tensorflow) (1.0.1)\n",
            "Requirement already satisfied: google-auth<3,>=1.6.3 in /usr/local/lib/python3.7/dist-packages (from tensorboard<2.10,>=2.9->tensorflow) (1.35.0)\n",
            "Requirement already satisfied: markdown>=2.6.8 in /usr/local/lib/python3.7/dist-packages (from tensorboard<2.10,>=2.9->tensorflow) (3.4.1)\n",
            "Requirement already satisfied: pyasn1-modules>=0.2.1 in /usr/local/lib/python3.7/dist-packages (from google-auth<3,>=1.6.3->tensorboard<2.10,>=2.9->tensorflow) (0.2.8)\n",
            "Requirement already satisfied: cachetools<5.0,>=2.0.0 in /usr/local/lib/python3.7/dist-packages (from google-auth<3,>=1.6.3->tensorboard<2.10,>=2.9->tensorflow) (4.2.4)\n",
            "Requirement already satisfied: rsa<5,>=3.1.4 in /usr/local/lib/python3.7/dist-packages (from google-auth<3,>=1.6.3->tensorboard<2.10,>=2.9->tensorflow) (4.9)\n",
            "Requirement already satisfied: requests-oauthlib>=0.7.0 in /usr/local/lib/python3.7/dist-packages (from google-auth-oauthlib<0.5,>=0.4.1->tensorboard<2.10,>=2.9->tensorflow) (1.3.1)\n",
            "Requirement already satisfied: importlib-metadata>=4.4 in /usr/local/lib/python3.7/dist-packages (from markdown>=2.6.8->tensorboard<2.10,>=2.9->tensorflow) (4.13.0)\n",
            "Requirement already satisfied: zipp>=0.5 in /usr/local/lib/python3.7/dist-packages (from importlib-metadata>=4.4->markdown>=2.6.8->tensorboard<2.10,>=2.9->tensorflow) (3.10.0)\n",
            "Requirement already satisfied: pyasn1<0.5.0,>=0.4.6 in /usr/local/lib/python3.7/dist-packages (from pyasn1-modules>=0.2.1->google-auth<3,>=1.6.3->tensorboard<2.10,>=2.9->tensorflow) (0.4.8)\n",
            "Requirement already satisfied: urllib3!=1.25.0,!=1.25.1,<1.26,>=1.21.1 in /usr/local/lib/python3.7/dist-packages (from requests<3,>=2.21.0->tensorboard<2.10,>=2.9->tensorflow) (1.24.3)\n",
            "Requirement already satisfied: certifi>=2017.4.17 in /usr/local/lib/python3.7/dist-packages (from requests<3,>=2.21.0->tensorboard<2.10,>=2.9->tensorflow) (2022.9.24)\n",
            "Requirement already satisfied: chardet<4,>=3.0.2 in /usr/local/lib/python3.7/dist-packages (from requests<3,>=2.21.0->tensorboard<2.10,>=2.9->tensorflow) (3.0.4)\n",
            "Requirement already satisfied: idna<3,>=2.5 in /usr/local/lib/python3.7/dist-packages (from requests<3,>=2.21.0->tensorboard<2.10,>=2.9->tensorflow) (2.10)\n",
            "Requirement already satisfied: oauthlib>=3.0.0 in /usr/local/lib/python3.7/dist-packages (from requests-oauthlib>=0.7.0->google-auth-oauthlib<0.5,>=0.4.1->tensorboard<2.10,>=2.9->tensorflow) (3.2.2)\n",
            "Requirement already satisfied: pyparsing!=3.0.5,>=2.0.2 in /usr/local/lib/python3.7/dist-packages (from packaging->tensorflow) (3.0.9)\n"
          ]
        }
      ],
      "source": [
        "!pip install seaborn\n",
        "!pip install matplotlib\n",
        "!pip install datetime\n",
        "!pip install pandas\n",
        "!pip install --upgrade pandas_datareader\n",
        "!pip install numpy\n",
        "!pip install os\n",
        "!pip install tensorflow \n",
        "\n",
        "import seaborn as sns\n",
        "import matplotlib.pyplot as plt\n",
        "import datetime as dt\n",
        "import pandas as pd\n",
        "import pandas_datareader as web # to read data from web\n",
        "import numpy as np\n",
        "import os\n",
        "import tensorflow as tf\n"
      ]
    },
    {
      "cell_type": "code",
      "source": [
        "# Proof of Concept\n",
        "# Import TX Instruments stock data using pandas_datareader from Yahoo Finance\n",
        "txn_data= web.DataReader('TXN',data_source=\"yahoo\",start='2014-01-01',end='2022-02-02')\n",
        "print(txn_data.head())\n",
        "print(txn_data.shape)"
      ],
      "metadata": {
        "colab": {
          "base_uri": "https://localhost:8080/"
        },
        "id": "KP_aOLU2gXhk",
        "outputId": "7af10f12-5427-4b8a-b017-de0253ac85f0"
      },
      "execution_count": null,
      "outputs": [
        {
          "output_type": "stream",
          "name": "stdout",
          "text": [
            "                 High        Low       Open      Close     Volume  Adj Close\n",
            "Date                                                                        \n",
            "2014-01-02  43.500000  42.880001  43.439999  43.099998  6959200.0  33.988426\n",
            "2014-01-03  43.459999  42.970001  43.119999  43.290001  4693300.0  34.138260\n",
            "2014-01-06  43.279999  42.849998  43.250000  42.930000  4446300.0  33.854370\n",
            "2014-01-07  43.110001  42.639999  42.980000  42.700001  5078900.0  33.672977\n",
            "2014-01-08  43.320000  42.619999  42.959999  43.290001  6353500.0  34.138260\n",
            "(2037, 6)\n"
          ]
        }
      ]
    },
    {
      "cell_type": "code",
      "source": [
        "# Plot the history of the companies closing price in $\n",
        "plt.figure(figsize=(15,7))\n",
        "sns.lineplot(x = txn_data.index, y = txn_data['Close'])\n",
        "plt.xlabel('Year', fontsize=18)\n",
        "plt.ylabel('Closing Price (USD)',fontsize=18)\n",
        "plt.show()"
      ],
      "metadata": {
        "colab": {
          "base_uri": "https://localhost:8080/",
          "height": 450
        },
        "id": "Ddzy1l4ohO6k",
        "outputId": "666a6683-4ce5-4eeb-b3d4-8895d935ea59"
      },
      "execution_count": null,
      "outputs": [
        {
          "output_type": "display_data",
          "data": {
            "text/plain": [
              "<Figure size 1080x504 with 1 Axes>"
            ],
            "image/png": "[encoded data removed]"
          },
          "metadata": {
            "needs_background": "light"
          }
        }
      ]
    },
    {
      "cell_type": "code",
      "source": [
        "# Split the dataset into a train and test set\n",
        "data_to_train = txn_data[:1530]\n",
        "data_to_test = txn_data[1530:]\n",
        "\n",
        "# Save the resulting data to csv files\n",
        "data_to_train.to_csv('train_data.csv')\n",
        "data_to_test.to_csv('test_data.csv')\n",
        "\n",
        "txn_data= txn_data.iloc[: , 3:4]\n",
        "print(txn_data.head())\n"
      ],
      "metadata": {
        "colab": {
          "base_uri": "https://localhost:8080/"
        },
        "id": "HkWVaL7U60hV",
        "outputId": "dfa0c9f3-7803-4bf7-9fee-3d0b3413a60c"
      },
      "execution_count": null,
      "outputs": [
        {
          "output_type": "stream",
          "name": "stdout",
          "text": [
            "                Close\n",
            "Date                 \n",
            "2014-01-02  43.099998\n",
            "2014-01-03  43.290001\n",
            "2014-01-06  42.930000\n",
            "2014-01-07  42.700001\n",
            "2014-01-08  43.290001\n"
          ]
        }
      ]
    },
    {
      "cell_type": "code",
      "source": [
        "## Create NumPy array\n",
        "training_dataset= txn_data.iloc[:1750,:].values\n",
        "\n",
        "test_dataset= txn_data.iloc[1750:,:].values\n",
        "\n",
        "# Normalize our data\n",
        "from sklearn.preprocessing import MinMaxScaler\n",
        "sc= MinMaxScaler(feature_range=(0,1))\n",
        "scaled_training_dataset= sc.fit_transform(training_dataset)\n",
        "\n",
        "# 60 timesteps 1 output\n",
        "x_train = [] # Independent variables\n",
        "y_train = [] # Dependent variables \n",
        "# I am going to append past 60 days data \n",
        "for i in range(60,1750):\n",
        "    x_train.append(scaled_training_dataset[i-60:i,0]) # Appending previous 60 days data not including 60\n",
        "    y_train.append(scaled_training_dataset[i,0])\n",
        "    \n",
        "x_train, y_train= np.array(x_train), np.array(y_train)\n",
        "\n",
        "x_train, y_train= np.array(x_train), np.array(y_train)\n",
        "print(x_train.shape, y_train.shape)  # Check the current shape \n",
        "\n",
        "# Using AI LSMT Model (Long Short-Term Memory)\n",
        "x_train= np.reshape(x_train,(x_train.shape[0],x_train.shape[1],1)) # Re shape to 3D as required by LSMT model\n",
        "x_train.shape\n"
      ],
      "metadata": {
        "colab": {
          "base_uri": "https://localhost:8080/"
        },
        "id": "Mib8IlCrhc16",
        "outputId": "ce2c4021-dea7-4040-9d7d-710b014bbb32"
      },
      "execution_count": null,
      "outputs": [
        {
          "output_type": "stream",
          "name": "stdout",
          "text": [
            "(1690, 60) (1690,)\n"
          ]
        },
        {
          "output_type": "execute_result",
          "data": {
            "text/plain": [
              "(1690, 60, 1)"
            ]
          },
          "metadata": {},
          "execution_count": 7
        }
      ]
    },
    {
      "cell_type": "code",
      "source": [
        "# Use Tensorflow's Keras models/packages\n",
        "from keras.models import Sequential\n",
        "from keras.layers import Dense, Dropout, LSTM\n",
        "\n",
        "model = Sequential() # Init recurrent neural network\n",
        "\n",
        "# Adding first LSTM layer and some dropout Dropout regularisation\n",
        "model.add(LSTM(units=100,return_sequences=True, input_shape=(x_train.shape[1],1)))\n",
        "model.add(Dropout(rate=0.2))\n",
        "# '' '' second '' '' '' ''\n",
        "model.add(LSTM(units=100,return_sequences=True))\n",
        "model.add(Dropout(rate=0.2))\n",
        "# '' '' third '' '' '' ''\n",
        "model.add(LSTM(units=100,return_sequences=True))\n",
        "model.add(Dropout(rate=0.2))\n",
        "# '' '' fourth '' '' '' ''\n",
        "model.add(LSTM(units=100,return_sequences=True))\n",
        "model.add(Dropout(rate=0.2))\n",
        "# '' '' fifth '' '' '' ''\n",
        "model.add(LSTM(units=100))\n",
        "model.add(Dropout(rate=0.2))\n",
        "# Add output layer\n",
        "model.add(Dense(units=1))\n",
        "\n",
        "# Compile and show model (note we're using regression)\n",
        "model.compile(loss='mean_squared_error', optimizer='adam')\n",
        "\n",
        "model.summary()"
      ],
      "metadata": {
        "colab": {
          "base_uri": "https://localhost:8080/"
        },
        "id": "xuKU4FvAixoS",
        "outputId": "932edb84-7ecb-4a85-9184-8d895637f4e3"
      },
      "execution_count": null,
      "outputs": [
        {
          "output_type": "stream",
          "name": "stdout",
          "text": [
            "Model: \"sequential\"\n",
            "_________________________________________________________________\n",
            " Layer (type)                Output Shape              Param #   \n",
            "=================================================================\n",
            " lstm (LSTM)                 (None, 60, 100)           40800     \n",
            "                                                                 \n",
            " dropout (Dropout)           (None, 60, 100)           0         \n",
            "                                                                 \n",
            " lstm_1 (LSTM)               (None, 60, 100)           80400     \n",
            "                                                                 \n",
            " dropout_1 (Dropout)         (None, 60, 100)           0         \n",
            "                                                                 \n",
            " lstm_2 (LSTM)               (None, 60, 100)           80400     \n",
            "                                                                 \n",
            " dropout_2 (Dropout)         (None, 60, 100)           0         \n",
            "                                                                 \n",
            " lstm_3 (LSTM)               (None, 60, 100)           80400     \n",
            "                                                                 \n",
            " dropout_3 (Dropout)         (None, 60, 100)           0         \n",
            "                                                                 \n",
            " lstm_4 (LSTM)               (None, 100)               80400     \n",
            "                                                                 \n",
            " dropout_4 (Dropout)         (None, 100)               0         \n",
            "                                                                 \n",
            " dense (Dense)               (None, 1)                 101       \n",
            "                                                                 \n",
            "=================================================================\n",
            "Total params: 362,501\n",
            "Trainable params: 362,501\n",
            "Non-trainable params: 0\n",
            "_________________________________________________________________\n"
          ]
        }
      ]
    },
    {
      "cell_type": "markdown",
      "source": [
        "Note the LSMT model takes 3 arguments: #values, #time-steps, #1-dimensional output"
      ],
      "metadata": {
        "id": "UmzlEmyui4Kq"
      }
    },
    {
      "cell_type": "code",
      "source": [
        "# Fit our model into the training set\n",
        "history = model.fit(x_train,y_train,epochs=100,batch_size=32)"
      ],
      "metadata": {
        "colab": {
          "base_uri": "https://localhost:8080/"
        },
        "id": "oG6Ms6HBjurj",
        "outputId": "2aa27b72-8052-4a14-e6c9-4969f57ac119"
      },
      "execution_count": null,
      "outputs": [
        {
          "output_type": "stream",
          "name": "stdout",
          "text": [
            "Epoch 1/100\n",
            "53/53 [==============================] - 25s 274ms/step - loss: 0.0158\n",
            "Epoch 2/100\n",
            "53/53 [==============================] - 15s 277ms/step - loss: 0.0029\n",
            "Epoch 3/100\n",
            "53/53 [==============================] - 16s 303ms/step - loss: 0.0030\n",
            "Epoch 4/100\n",
            "53/53 [==============================] - 15s 274ms/step - loss: 0.0028\n",
            "Epoch 5/100\n",
            "53/53 [==============================] - 15s 278ms/step - loss: 0.0023\n",
            "Epoch 6/100\n",
            "53/53 [==============================] - 16s 293ms/step - loss: 0.0026\n",
            "Epoch 7/100\n",
            "53/53 [==============================] - 15s 277ms/step - loss: 0.0030\n",
            "Epoch 8/100\n",
            "53/53 [==============================] - 15s 282ms/step - loss: 0.0022\n",
            "Epoch 9/100\n",
            "53/53 [==============================] - 16s 308ms/step - loss: 0.0019\n",
            "Epoch 10/100\n",
            "53/53 [==============================] - 14s 272ms/step - loss: 0.0020\n",
            "Epoch 11/100\n",
            "53/53 [==============================] - 15s 278ms/step - loss: 0.0019\n",
            "Epoch 12/100\n",
            "53/53 [==============================] - 17s 322ms/step - loss: 0.0020\n",
            "Epoch 13/100\n",
            "53/53 [==============================] - 15s 276ms/step - loss: 0.0021\n",
            "Epoch 14/100\n",
            "53/53 [==============================] - 15s 275ms/step - loss: 0.0018\n",
            "Epoch 15/100\n",
            "53/53 [==============================] - 15s 274ms/step - loss: 0.0019\n",
            "Epoch 16/100\n",
            "53/53 [==============================] - 16s 302ms/step - loss: 0.0015\n",
            "Epoch 17/100\n",
            "53/53 [==============================] - 15s 281ms/step - loss: 0.0015\n",
            "Epoch 18/100\n",
            "53/53 [==============================] - 15s 278ms/step - loss: 0.0015\n",
            "Epoch 19/100\n",
            "53/53 [==============================] - 16s 303ms/step - loss: 0.0017\n",
            "Epoch 20/100\n",
            "53/53 [==============================] - 15s 278ms/step - loss: 0.0015\n",
            "Epoch 21/100\n",
            "53/53 [==============================] - 15s 275ms/step - loss: 0.0014\n",
            "Epoch 22/100\n",
            "53/53 [==============================] - 16s 303ms/step - loss: 0.0015\n",
            "Epoch 23/100\n",
            "53/53 [==============================] - 15s 274ms/step - loss: 0.0013\n",
            "Epoch 24/100\n",
            "53/53 [==============================] - 15s 274ms/step - loss: 0.0013\n",
            "Epoch 25/100\n",
            "53/53 [==============================] - 16s 303ms/step - loss: 0.0015\n",
            "Epoch 26/100\n",
            "53/53 [==============================] - 15s 286ms/step - loss: 0.0014\n",
            "Epoch 27/100\n",
            "53/53 [==============================] - 15s 284ms/step - loss: 0.0013\n",
            "Epoch 28/100\n",
            "53/53 [==============================] - 15s 282ms/step - loss: 0.0014\n",
            "Epoch 29/100\n",
            "53/53 [==============================] - 16s 303ms/step - loss: 0.0015\n",
            "Epoch 30/100\n",
            "53/53 [==============================] - 15s 274ms/step - loss: 0.0012\n",
            "Epoch 31/100\n",
            "53/53 [==============================] - 14s 269ms/step - loss: 0.0013\n",
            "Epoch 32/100\n",
            "53/53 [==============================] - 16s 301ms/step - loss: 0.0011\n",
            "Epoch 33/100\n",
            "53/53 [==============================] - 15s 278ms/step - loss: 0.0011\n",
            "Epoch 34/100\n",
            "53/53 [==============================] - 15s 278ms/step - loss: 0.0013\n",
            "Epoch 35/100\n",
            "53/53 [==============================] - 16s 298ms/step - loss: 0.0014\n",
            "Epoch 36/100\n",
            "53/53 [==============================] - 15s 279ms/step - loss: 0.0011\n",
            "Epoch 37/100\n",
            "53/53 [==============================] - 15s 275ms/step - loss: 0.0011\n",
            "Epoch 38/100\n",
            "53/53 [==============================] - 15s 280ms/step - loss: 0.0013\n",
            "Epoch 39/100\n",
            "53/53 [==============================] - 17s 324ms/step - loss: 9.9487e-04\n",
            "Epoch 40/100\n",
            "53/53 [==============================] - 15s 278ms/step - loss: 0.0011\n",
            "Epoch 41/100\n",
            "53/53 [==============================] - 15s 274ms/step - loss: 9.5819e-04\n",
            "Epoch 42/100\n",
            "53/53 [==============================] - 16s 301ms/step - loss: 9.4358e-04\n",
            "Epoch 43/100\n",
            "53/53 [==============================] - 15s 277ms/step - loss: 0.0011\n",
            "Epoch 44/100\n",
            "53/53 [==============================] - 14s 272ms/step - loss: 0.0010\n",
            "Epoch 45/100\n",
            "53/53 [==============================] - 16s 301ms/step - loss: 0.0010\n",
            "Epoch 46/100\n",
            "53/53 [==============================] - 15s 280ms/step - loss: 8.9810e-04\n",
            "Epoch 47/100\n",
            "53/53 [==============================] - 15s 276ms/step - loss: 8.8919e-04\n",
            "Epoch 48/100\n",
            "53/53 [==============================] - 15s 277ms/step - loss: 8.8583e-04\n",
            "Epoch 49/100\n",
            "53/53 [==============================] - 16s 296ms/step - loss: 0.0010\n",
            "Epoch 50/100\n",
            "53/53 [==============================] - 15s 282ms/step - loss: 0.0011\n",
            "Epoch 51/100\n",
            "53/53 [==============================] - 15s 281ms/step - loss: 0.0010\n",
            "Epoch 52/100\n",
            "53/53 [==============================] - 17s 324ms/step - loss: 9.0361e-04\n",
            "Epoch 53/100\n",
            "53/53 [==============================] - 15s 279ms/step - loss: 0.0010\n",
            "Epoch 54/100\n",
            "53/53 [==============================] - 15s 280ms/step - loss: 9.8855e-04\n",
            "Epoch 55/100\n",
            "53/53 [==============================] - 16s 308ms/step - loss: 9.5152e-04\n",
            "Epoch 56/100\n",
            "53/53 [==============================] - 15s 282ms/step - loss: 9.2215e-04\n",
            "Epoch 57/100\n",
            "53/53 [==============================] - 15s 283ms/step - loss: 8.7129e-04\n",
            "Epoch 58/100\n",
            "53/53 [==============================] - 17s 313ms/step - loss: 9.8948e-04\n",
            "Epoch 59/100\n",
            "53/53 [==============================] - 15s 281ms/step - loss: 0.0010\n",
            "Epoch 60/100\n",
            "53/53 [==============================] - 16s 298ms/step - loss: 8.7505e-04\n",
            "Epoch 61/100\n",
            "53/53 [==============================] - 15s 285ms/step - loss: 9.9544e-04\n",
            "Epoch 62/100\n",
            "53/53 [==============================] - 17s 315ms/step - loss: 8.6884e-04\n",
            "Epoch 63/100\n",
            "53/53 [==============================] - 15s 287ms/step - loss: 8.6446e-04\n",
            "Epoch 64/100\n",
            "53/53 [==============================] - 15s 278ms/step - loss: 7.1328e-04\n",
            "Epoch 65/100\n",
            "53/53 [==============================] - 18s 334ms/step - loss: 9.3318e-04\n",
            "Epoch 66/100\n",
            "53/53 [==============================] - 15s 284ms/step - loss: 8.7697e-04\n",
            "Epoch 67/100\n",
            "53/53 [==============================] - 15s 288ms/step - loss: 8.5495e-04\n",
            "Epoch 68/100\n",
            "53/53 [==============================] - 16s 305ms/step - loss: 8.2012e-04\n",
            "Epoch 69/100\n",
            "53/53 [==============================] - 15s 284ms/step - loss: 8.7162e-04\n",
            "Epoch 70/100\n",
            "53/53 [==============================] - 15s 285ms/step - loss: 0.0010\n",
            "Epoch 71/100\n",
            "53/53 [==============================] - 17s 313ms/step - loss: 1.0000e-03\n",
            "Epoch 72/100\n",
            "53/53 [==============================] - 15s 291ms/step - loss: 8.6688e-04\n",
            "Epoch 73/100\n",
            "53/53 [==============================] - 16s 295ms/step - loss: 8.5656e-04\n",
            "Epoch 74/100\n",
            "53/53 [==============================] - 16s 295ms/step - loss: 8.9870e-04\n",
            "Epoch 75/100\n",
            "53/53 [==============================] - 17s 313ms/step - loss: 8.6157e-04\n",
            "Epoch 76/100\n",
            "53/53 [==============================] - 15s 286ms/step - loss: 7.4225e-04\n",
            "Epoch 77/100\n",
            "53/53 [==============================] - 16s 295ms/step - loss: 8.7305e-04\n",
            "Epoch 78/100\n",
            "53/53 [==============================] - 18s 336ms/step - loss: 7.8353e-04\n",
            "Epoch 79/100\n",
            "53/53 [==============================] - 16s 296ms/step - loss: 8.3137e-04\n",
            "Epoch 80/100\n",
            "53/53 [==============================] - 15s 287ms/step - loss: 7.7431e-04\n",
            "Epoch 81/100\n",
            "53/53 [==============================] - 16s 309ms/step - loss: 7.7663e-04\n",
            "Epoch 82/100\n",
            "53/53 [==============================] - 15s 285ms/step - loss: 7.3691e-04\n",
            "Epoch 83/100\n",
            "53/53 [==============================] - 15s 276ms/step - loss: 8.1951e-04\n",
            "Epoch 84/100\n",
            "53/53 [==============================] - 16s 311ms/step - loss: 8.0485e-04\n",
            "Epoch 85/100\n",
            "53/53 [==============================] - 15s 290ms/step - loss: 8.2450e-04\n",
            "Epoch 86/100\n",
            "53/53 [==============================] - 15s 288ms/step - loss: 8.2382e-04\n",
            "Epoch 87/100\n",
            "53/53 [==============================] - 16s 305ms/step - loss: 8.0172e-04\n",
            "Epoch 88/100\n",
            "53/53 [==============================] - 15s 285ms/step - loss: 8.4790e-04\n",
            "Epoch 89/100\n",
            "53/53 [==============================] - 15s 285ms/step - loss: 8.7979e-04\n",
            "Epoch 90/100\n",
            "53/53 [==============================] - 14s 272ms/step - loss: 0.0010\n",
            "Epoch 91/100\n",
            "53/53 [==============================] - 18s 331ms/step - loss: 7.4374e-04\n",
            "Epoch 92/100\n",
            "53/53 [==============================] - 15s 278ms/step - loss: 7.6729e-04\n",
            "Epoch 93/100\n",
            "53/53 [==============================] - 15s 285ms/step - loss: 8.0260e-04\n",
            "Epoch 94/100\n",
            "53/53 [==============================] - 16s 310ms/step - loss: 6.2528e-04\n",
            "Epoch 95/100\n",
            "53/53 [==============================] - 15s 282ms/step - loss: 6.8615e-04\n",
            "Epoch 96/100\n",
            "53/53 [==============================] - 16s 300ms/step - loss: 6.9625e-04\n",
            "Epoch 97/100\n",
            "53/53 [==============================] - 16s 302ms/step - loss: 7.2801e-04\n",
            "Epoch 98/100\n",
            "53/53 [==============================] - 15s 279ms/step - loss: 7.6822e-04\n",
            "Epoch 99/100\n",
            "53/53 [==============================] - 15s 279ms/step - loss: 8.5057e-04\n",
            "Epoch 100/100\n",
            "53/53 [==============================] - 15s 283ms/step - loss: 7.3597e-04\n"
          ]
        }
      ]
    },
    {
      "cell_type": "code",
      "source": [
        "plt.figure(figsize = (16, 5))\n",
        "plt.plot(history.history['loss'])\n",
        "plt.xlabel('Epoch')\n",
        "plt.ylabel('Loss')\n",
        "plt.show()"
      ],
      "metadata": {
        "colab": {
          "base_uri": "https://localhost:8080/",
          "height": 334
        },
        "id": "efIhnsWj5rAU",
        "outputId": "b676d0b7-a3d2-4a04-e4a8-2b5bbeff2b5e"
      },
      "execution_count": null,
      "outputs": [
        {
          "output_type": "display_data",
          "data": {
            "text/plain": [
              "<Figure size 1152x360 with 1 Axes>"
            ],
            "image/png": "[encoded data removed]"
          },
          "metadata": {
            "needs_background": "light"
          }
        }
      ]
    },
    {
      "cell_type": "code",
      "source": [
        "training_dataset = pd.read_csv('train_data.csv')\n",
        "test_dataset = pd.read_csv('test_data.csv')\n",
        "\n",
        "real_txn_price = test_dataset.iloc[:, 3:4].values\n",
        "real_txn_price.shape"
      ],
      "metadata": {
        "colab": {
          "base_uri": "https://localhost:8080/"
        },
        "id": "A_f3DXVBj_MU",
        "outputId": "71898731-789a-4e0c-8674-2d7c712ec66e"
      },
      "execution_count": null,
      "outputs": [
        {
          "output_type": "execute_result",
          "data": {
            "text/plain": [
              "(287, 1)"
            ]
          },
          "metadata": {},
          "execution_count": 12
        }
      ]
    },
    {
      "cell_type": "code",
      "source": [
        "\n",
        "# Use panda's concatenate and scale\n",
        "data_total= pd.concat([training_dataset['Close'], test_dataset['Close']],  axis=0)\n",
        "inputs= data_total[len(data_total)-len(test_dataset)-60:].values \n",
        "inputs = inputs.reshape(-1,1) \n",
        "\n",
        "scaler = MinMaxScaler()\n",
        "\n",
        "#inputs = sc.transform(inputs)\n",
        "\n",
        "X_test = []\n",
        "for i in range(60, 230):\n",
        "    X_test.append(inputs[i-60:i, 0])\n",
        "\n",
        "X_test = np.array(X_test)\n",
        "# 3D format\n",
        "X_test = np.reshape(X_test, (X_test.shape[0], X_test.shape[1], 1))"
      ],
      "metadata": {
        "id": "-o_SSrmk7Grn"
      },
      "execution_count": null,
      "outputs": []
    },
    {
      "cell_type": "code",
      "source": [
        "inputs.shape"
      ],
      "metadata": {
        "colab": {
          "base_uri": "https://localhost:8080/"
        },
        "id": "dQ4sGEZc8VU6",
        "outputId": "0d842232-125b-4b9b-8fad-1ac53d2c74f0"
      },
      "execution_count": null,
      "outputs": [
        {
          "output_type": "execute_result",
          "data": {
            "text/plain": [
              "(347, 1)"
            ]
          },
          "metadata": {},
          "execution_count": 14
        }
      ]
    },
    {
      "cell_type": "code",
      "source": [
        "data_total.shape"
      ],
      "metadata": {
        "colab": {
          "base_uri": "https://localhost:8080/"
        },
        "id": "ogOTGsmF8YXe",
        "outputId": "022b2bca-0fe8-4d61-c727-eb0f5faf6d58"
      },
      "execution_count": null,
      "outputs": [
        {
          "output_type": "execute_result",
          "data": {
            "text/plain": [
              "(2037,)"
            ]
          },
          "metadata": {},
          "execution_count": 15
        }
      ]
    },
    {
      "cell_type": "code",
      "source": [
        "X_test.shape"
      ],
      "metadata": {
        "colab": {
          "base_uri": "https://localhost:8080/"
        },
        "id": "OKtmQbmU8bFG",
        "outputId": "1d4583da-bde6-43ac-98c2-9ec6159a2621"
      },
      "execution_count": null,
      "outputs": [
        {
          "output_type": "execute_result",
          "data": {
            "text/plain": [
              "(170, 60, 1)"
            ]
          },
          "metadata": {},
          "execution_count": 16
        }
      ]
    },
    {
      "cell_type": "code",
      "source": [
        "# Predict using our model\n",
        "predicted_txn_price = model.predict(X_test)\n",
        "\n",
        "# Inverse the scaling\n",
        "predicted_txn_price = sc.inverse_transform(predicted_txn_price)\n",
        "\n",
        "# Plot result\n",
        "plt.figure(figsize=(17,10))\n",
        "plt.plot(real_txn_price, color = 'Blue', label = 'Real TX Instruments Stock Price')\n",
        "plt.plot(predicted_txn_price, color = 'Red', label = 'Predicted TXN Stock Price')\n",
        "plt.title('TXN Stock Price Prediction', fontsize = 16)\n",
        "plt.xlabel('Time', fontsize = 16)\n",
        "plt.ylabel('TXN Stock Price', fontsize = 17)\n",
        "plt.legend()\n",
        "plt.show()"
      ],
      "metadata": {
        "colab": {
          "base_uri": "https://localhost:8080/",
          "height": 614
        },
        "id": "VbEElYI48dRH",
        "outputId": "7e0c2366-87ec-4888-a66f-5875eec071dc"
      },
      "execution_count": null,
      "outputs": [
        {
          "output_type": "stream",
          "name": "stdout",
          "text": [
            "6/6 [==============================] - 1s 113ms/step\n"
          ]
        },
        {
          "output_type": "display_data",
          "data": {
            "text/plain": [
              "<Figure size 1224x720 with 1 Axes>"
            ],
            "image/png": "[encoded data removed]"
          },
          "metadata": {
            "needs_background": "light"
          }
        }
      ]
    },
    {
      "cell_type": "markdown",
      "source": [],
      "metadata": {
        "id": "hiAKdsChAD7I"
      }
    }
  ]
}